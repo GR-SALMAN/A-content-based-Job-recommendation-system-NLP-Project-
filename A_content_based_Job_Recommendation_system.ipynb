{
  "nbformat": 4,
  "nbformat_minor": 0,
  "metadata": {
    "colab": {
      "provenance": [],
      "gpuType": "T4"
    },
    "kernelspec": {
      "name": "python3",
      "display_name": "Python 3"
    },
    "language_info": {
      "name": "python"
    },
    "accelerator": "GPU"
  },
  "cells": [
    {
      "cell_type": "markdown",
      "source": [
        "# **Importing Libraries:**"
      ],
      "metadata": {
        "id": "_CP1LkpOfBem"
      }
    },
    {
      "cell_type": "code",
      "execution_count": null,
      "metadata": {
        "id": "OClWNBsv0AIf"
      },
      "outputs": [],
      "source": [
        "import numpy as np\n",
        "import pandas as pd\n",
        "import re\n",
        "import html\n",
        "import textwrap\n",
        "from tensorflow.keras.preprocessing.text import Tokenizer\n",
        "from tensorflow.keras.preprocessing.sequence import pad_sequences\n",
        "from tensorflow.keras.utils import to_categorical\n",
        "from tensorflow.keras.models import Sequential\n",
        "from sklearn.model_selection import train_test_split\n",
        "from IPython.display import HTML, Markdown\n",
        "from pprint import pprint\n",
        "from tabulate import tabulate\n",
        "from sklearn.metrics import confusion_matrix\n",
        "import matplotlib.pyplot as plt\n",
        "import seaborn as sns\n",
        "from sklearn.feature_extraction.text import TfidfVectorizer\n",
        "from sklearn.metrics.pairwise import cosine_similarity\n",
        "from sklearn.metrics import precision_score, recall_score, accuracy_score, f1_score"
      ]
    },
    {
      "cell_type": "code",
      "execution_count": null,
      "metadata": {
        "colab": {
          "base_uri": "https://localhost:8080/"
        },
        "id": "4dXDzWUoDb_M",
        "outputId": "e38eff34-3149-4811-b683-da520d8c6be0"
      },
      "outputs": [
        {
          "output_type": "stream",
          "name": "stdout",
          "text": [
            "Mounted at /content/gdrive/\n"
          ]
        }
      ],
      "source": [
        "from google.colab import drive\n",
        "\n",
        "drive.mount('/content/gdrive/', force_remount=True)"
      ]
    },
    {
      "cell_type": "markdown",
      "metadata": {
        "id": "hvQFIJF17sfn"
      },
      "source": [
        "# **Data Load**"
      ]
    },
    {
      "cell_type": "code",
      "source": [
        "# Specify the number of rows you want to import\n",
        "num_rows_to_import = 20000\n",
        "# Read the first 20,000 rows from the dataset\n",
        "jobs = pd.read_csv('/content/gdrive/MyDrive/Dataset/jobs6.tsv', delimiter='\\t', encoding='utf-8', error_bad_lines=False, nrows=num_rows_to_import)\n"
      ],
      "metadata": {
        "colab": {
          "base_uri": "https://localhost:8080/"
        },
        "id": "llMMMQJtp0RO",
        "outputId": "3fd28507-cca5-4974-8470-241e6ea4c529"
      },
      "execution_count": null,
      "outputs": [
        {
          "output_type": "stream",
          "name": "stderr",
          "text": [
            "<ipython-input-3-5552cc95f1f0>:4: FutureWarning: The error_bad_lines argument has been deprecated and will be removed in a future version. Use on_bad_lines in the future.\n",
            "\n",
            "\n",
            "  jobs = pd.read_csv('/content/gdrive/MyDrive/Dataset/jobs6.tsv', delimiter='\\t', encoding='utf-8', error_bad_lines=False, nrows=num_rows_to_import)\n"
          ]
        }
      ]
    },
    {
      "cell_type": "code",
      "execution_count": null,
      "metadata": {
        "id": "HU_UREFZ7RF3",
        "colab": {
          "base_uri": "https://localhost:8080/"
        },
        "outputId": "3bbcee31-12da-4c6d-ee50-7cd991fd1012"
      },
      "outputs": [
        {
          "output_type": "stream",
          "name": "stderr",
          "text": [
            "<ipython-input-4-7480e9296031>:1: FutureWarning: The error_bad_lines argument has been deprecated and will be removed in a future version. Use on_bad_lines in the future.\n",
            "\n",
            "\n",
            "  resume = pd.read_csv('/content/gdrive/MyDrive/Dataset/users.tsv', delimiter='\\t',encoding='utf-8', error_bad_lines=False)\n"
          ]
        }
      ],
      "source": [
        "resume = pd.read_csv('/content/gdrive/MyDrive/Dataset/users.tsv', delimiter='\\t',encoding='utf-8', error_bad_lines=False)"
      ]
    },
    {
      "cell_type": "code",
      "execution_count": null,
      "metadata": {
        "id": "E5Av3XWFAsRh",
        "colab": {
          "base_uri": "https://localhost:8080/"
        },
        "outputId": "f9327909-8e77-466f-9f29-aad54e4567ff"
      },
      "outputs": [
        {
          "output_type": "stream",
          "name": "stderr",
          "text": [
            "<ipython-input-5-c38d890e2d22>:1: FutureWarning: The error_bad_lines argument has been deprecated and will be removed in a future version. Use on_bad_lines in the future.\n",
            "\n",
            "\n",
            "  history = pd.read_csv('/content/gdrive/MyDrive/Dataset/user_history.tsv', delimiter='\\t',encoding='utf-8', error_bad_lines=False)\n"
          ]
        }
      ],
      "source": [
        "history = pd.read_csv('/content/gdrive/MyDrive/Dataset/user_history.tsv', delimiter='\\t',encoding='utf-8', error_bad_lines=False)"
      ]
    },
    {
      "cell_type": "markdown",
      "metadata": {
        "id": "93Z6MZ8R7wIH"
      },
      "source": [
        "# **Data Pre-Processing**"
      ]
    },
    {
      "cell_type": "markdown",
      "source": [
        "**Job** **Data**"
      ],
      "metadata": {
        "id": "GRxZxjiR5jh6"
      }
    },
    {
      "cell_type": "code",
      "execution_count": null,
      "metadata": {
        "id": "ARvkIlE8C1un",
        "colab": {
          "base_uri": "https://localhost:8080/",
          "height": 293
        },
        "outputId": "240141e3-8744-4da6-b36e-ddf0fb9cd4ed"
      },
      "outputs": [
        {
          "output_type": "execute_result",
          "data": {
            "text/plain": [
              "   JobID  WindowID                     Title  \\\n",
              "0      6         6  Administrative Assistant   \n",
              "1    177         6          Maintenance Tech   \n",
              "2    179         6            Podium Speaker   \n",
              "3    181         6       Sales Professionals   \n",
              "4    184         6  ADMINISTRATIVE ASSISTANT   \n",
              "\n",
              "                                         Description  \\\n",
              "0  <p><strong><span>Opportunity:</span></strong> ...   \n",
              "1  Maintenance Tech - HVAC Certified. For lrg apt...   \n",
              "2  VACATION  VILLAGE RESORTS PODIUM SPEAKER Are y...   \n",
              "3  VACATION VILLAGE RESORTS Seeking Sales Profess...   \n",
              "4  <b>    <b>ADMINISTRATIVE ASSISTANT</b> </b>  —...   \n",
              "\n",
              "                                        Requirements         City State  \\\n",
              "0  <p><strong><span>Required Skills/Education:</s...  Bala Cynwyd    PA   \n",
              "1  Please refer to the Job Description to view th...      Orlando    FL   \n",
              "2  Please refer to the Job Description to view th...      Orlando    FL   \n",
              "3  Please refer to the Job Description to view th...      Orlando    FL   \n",
              "4  Please refer to the Job Description to view th...      Sanford    FL   \n",
              "\n",
              "  Country     Zip5                StartDate              EndDate  \n",
              "0      US  19004.0   2012-05-31 17:27:01.63  2012-06-29 23:59:00  \n",
              "1      US  32808.0  2012-05-13 01:16:58.923  2012-06-12 23:59:59  \n",
              "2      US      NaN  2012-05-12 09:00:53.553  2012-06-11 23:59:59  \n",
              "3      US      NaN   2012-05-12 09:00:55.86  2012-06-11 23:59:59  \n",
              "4      US  32773.0  2012-05-14 10:22:27.877  2012-06-13 23:59:59  "
            ],
            "text/html": [
              "\n",
              "  <div id=\"df-31e28793-94c1-44e9-8d7e-591f7a65b418\" class=\"colab-df-container\">\n",
              "    <div>\n",
              "<style scoped>\n",
              "    .dataframe tbody tr th:only-of-type {\n",
              "        vertical-align: middle;\n",
              "    }\n",
              "\n",
              "    .dataframe tbody tr th {\n",
              "        vertical-align: top;\n",
              "    }\n",
              "\n",
              "    .dataframe thead th {\n",
              "        text-align: right;\n",
              "    }\n",
              "</style>\n",
              "<table border=\"1\" class=\"dataframe\">\n",
              "  <thead>\n",
              "    <tr style=\"text-align: right;\">\n",
              "      <th></th>\n",
              "      <th>JobID</th>\n",
              "      <th>WindowID</th>\n",
              "      <th>Title</th>\n",
              "      <th>Description</th>\n",
              "      <th>Requirements</th>\n",
              "      <th>City</th>\n",
              "      <th>State</th>\n",
              "      <th>Country</th>\n",
              "      <th>Zip5</th>\n",
              "      <th>StartDate</th>\n",
              "      <th>EndDate</th>\n",
              "    </tr>\n",
              "  </thead>\n",
              "  <tbody>\n",
              "    <tr>\n",
              "      <th>0</th>\n",
              "      <td>6</td>\n",
              "      <td>6</td>\n",
              "      <td>Administrative Assistant</td>\n",
              "      <td>&lt;p&gt;&lt;strong&gt;&lt;span&gt;Opportunity:&lt;/span&gt;&lt;/strong&gt; ...</td>\n",
              "      <td>&lt;p&gt;&lt;strong&gt;&lt;span&gt;Required Skills/Education:&lt;/s...</td>\n",
              "      <td>Bala Cynwyd</td>\n",
              "      <td>PA</td>\n",
              "      <td>US</td>\n",
              "      <td>19004.0</td>\n",
              "      <td>2012-05-31 17:27:01.63</td>\n",
              "      <td>2012-06-29 23:59:00</td>\n",
              "    </tr>\n",
              "    <tr>\n",
              "      <th>1</th>\n",
              "      <td>177</td>\n",
              "      <td>6</td>\n",
              "      <td>Maintenance Tech</td>\n",
              "      <td>Maintenance Tech - HVAC Certified. For lrg apt...</td>\n",
              "      <td>Please refer to the Job Description to view th...</td>\n",
              "      <td>Orlando</td>\n",
              "      <td>FL</td>\n",
              "      <td>US</td>\n",
              "      <td>32808.0</td>\n",
              "      <td>2012-05-13 01:16:58.923</td>\n",
              "      <td>2012-06-12 23:59:59</td>\n",
              "    </tr>\n",
              "    <tr>\n",
              "      <th>2</th>\n",
              "      <td>179</td>\n",
              "      <td>6</td>\n",
              "      <td>Podium Speaker</td>\n",
              "      <td>VACATION  VILLAGE RESORTS PODIUM SPEAKER Are y...</td>\n",
              "      <td>Please refer to the Job Description to view th...</td>\n",
              "      <td>Orlando</td>\n",
              "      <td>FL</td>\n",
              "      <td>US</td>\n",
              "      <td>NaN</td>\n",
              "      <td>2012-05-12 09:00:53.553</td>\n",
              "      <td>2012-06-11 23:59:59</td>\n",
              "    </tr>\n",
              "    <tr>\n",
              "      <th>3</th>\n",
              "      <td>181</td>\n",
              "      <td>6</td>\n",
              "      <td>Sales Professionals</td>\n",
              "      <td>VACATION VILLAGE RESORTS Seeking Sales Profess...</td>\n",
              "      <td>Please refer to the Job Description to view th...</td>\n",
              "      <td>Orlando</td>\n",
              "      <td>FL</td>\n",
              "      <td>US</td>\n",
              "      <td>NaN</td>\n",
              "      <td>2012-05-12 09:00:55.86</td>\n",
              "      <td>2012-06-11 23:59:59</td>\n",
              "    </tr>\n",
              "    <tr>\n",
              "      <th>4</th>\n",
              "      <td>184</td>\n",
              "      <td>6</td>\n",
              "      <td>ADMINISTRATIVE ASSISTANT</td>\n",
              "      <td>&lt;b&gt;    &lt;b&gt;ADMINISTRATIVE ASSISTANT&lt;/b&gt; &lt;/b&gt;  —...</td>\n",
              "      <td>Please refer to the Job Description to view th...</td>\n",
              "      <td>Sanford</td>\n",
              "      <td>FL</td>\n",
              "      <td>US</td>\n",
              "      <td>32773.0</td>\n",
              "      <td>2012-05-14 10:22:27.877</td>\n",
              "      <td>2012-06-13 23:59:59</td>\n",
              "    </tr>\n",
              "  </tbody>\n",
              "</table>\n",
              "</div>\n",
              "    <div class=\"colab-df-buttons\">\n",
              "\n",
              "  <div class=\"colab-df-container\">\n",
              "    <button class=\"colab-df-convert\" onclick=\"convertToInteractive('df-31e28793-94c1-44e9-8d7e-591f7a65b418')\"\n",
              "            title=\"Convert this dataframe to an interactive table.\"\n",
              "            style=\"display:none;\">\n",
              "\n",
              "  <svg xmlns=\"http://www.w3.org/2000/svg\" height=\"24px\" viewBox=\"0 -960 960 960\">\n",
              "    <path d=\"M120-120v-720h720v720H120Zm60-500h600v-160H180v160Zm220 220h160v-160H400v160Zm0 220h160v-160H400v160ZM180-400h160v-160H180v160Zm440 0h160v-160H620v160ZM180-180h160v-160H180v160Zm440 0h160v-160H620v160Z\"/>\n",
              "  </svg>\n",
              "    </button>\n",
              "\n",
              "  <style>\n",
              "    .colab-df-container {\n",
              "      display:flex;\n",
              "      gap: 12px;\n",
              "    }\n",
              "\n",
              "    .colab-df-convert {\n",
              "      background-color: #E8F0FE;\n",
              "      border: none;\n",
              "      border-radius: 50%;\n",
              "      cursor: pointer;\n",
              "      display: none;\n",
              "      fill: #1967D2;\n",
              "      height: 32px;\n",
              "      padding: 0 0 0 0;\n",
              "      width: 32px;\n",
              "    }\n",
              "\n",
              "    .colab-df-convert:hover {\n",
              "      background-color: #E2EBFA;\n",
              "      box-shadow: 0px 1px 2px rgba(60, 64, 67, 0.3), 0px 1px 3px 1px rgba(60, 64, 67, 0.15);\n",
              "      fill: #174EA6;\n",
              "    }\n",
              "\n",
              "    .colab-df-buttons div {\n",
              "      margin-bottom: 4px;\n",
              "    }\n",
              "\n",
              "    [theme=dark] .colab-df-convert {\n",
              "      background-color: #3B4455;\n",
              "      fill: #D2E3FC;\n",
              "    }\n",
              "\n",
              "    [theme=dark] .colab-df-convert:hover {\n",
              "      background-color: #434B5C;\n",
              "      box-shadow: 0px 1px 3px 1px rgba(0, 0, 0, 0.15);\n",
              "      filter: drop-shadow(0px 1px 2px rgba(0, 0, 0, 0.3));\n",
              "      fill: #FFFFFF;\n",
              "    }\n",
              "  </style>\n",
              "\n",
              "    <script>\n",
              "      const buttonEl =\n",
              "        document.querySelector('#df-31e28793-94c1-44e9-8d7e-591f7a65b418 button.colab-df-convert');\n",
              "      buttonEl.style.display =\n",
              "        google.colab.kernel.accessAllowed ? 'block' : 'none';\n",
              "\n",
              "      async function convertToInteractive(key) {\n",
              "        const element = document.querySelector('#df-31e28793-94c1-44e9-8d7e-591f7a65b418');\n",
              "        const dataTable =\n",
              "          await google.colab.kernel.invokeFunction('convertToInteractive',\n",
              "                                                    [key], {});\n",
              "        if (!dataTable) return;\n",
              "\n",
              "        const docLinkHtml = 'Like what you see? Visit the ' +\n",
              "          '<a target=\"_blank\" href=https://colab.research.google.com/notebooks/data_table.ipynb>data table notebook</a>'\n",
              "          + ' to learn more about interactive tables.';\n",
              "        element.innerHTML = '';\n",
              "        dataTable['output_type'] = 'display_data';\n",
              "        await google.colab.output.renderOutput(dataTable, element);\n",
              "        const docLink = document.createElement('div');\n",
              "        docLink.innerHTML = docLinkHtml;\n",
              "        element.appendChild(docLink);\n",
              "      }\n",
              "    </script>\n",
              "  </div>\n",
              "\n",
              "\n",
              "<div id=\"df-0ac7b367-72f7-41ed-b3c1-ade41a6f8791\">\n",
              "  <button class=\"colab-df-quickchart\" onclick=\"quickchart('df-0ac7b367-72f7-41ed-b3c1-ade41a6f8791')\"\n",
              "            title=\"Suggest charts.\"\n",
              "            style=\"display:none;\">\n",
              "\n",
              "<svg xmlns=\"http://www.w3.org/2000/svg\" height=\"24px\"viewBox=\"0 0 24 24\"\n",
              "     width=\"24px\">\n",
              "    <g>\n",
              "        <path d=\"M19 3H5c-1.1 0-2 .9-2 2v14c0 1.1.9 2 2 2h14c1.1 0 2-.9 2-2V5c0-1.1-.9-2-2-2zM9 17H7v-7h2v7zm4 0h-2V7h2v10zm4 0h-2v-4h2v4z\"/>\n",
              "    </g>\n",
              "</svg>\n",
              "  </button>\n",
              "\n",
              "<style>\n",
              "  .colab-df-quickchart {\n",
              "    background-color: #E8F0FE;\n",
              "    border: none;\n",
              "    border-radius: 50%;\n",
              "    cursor: pointer;\n",
              "    display: none;\n",
              "    fill: #1967D2;\n",
              "    height: 32px;\n",
              "    padding: 0 0 0 0;\n",
              "    width: 32px;\n",
              "  }\n",
              "\n",
              "  .colab-df-quickchart:hover {\n",
              "    background-color: #E2EBFA;\n",
              "    box-shadow: 0px 1px 2px rgba(60, 64, 67, 0.3), 0px 1px 3px 1px rgba(60, 64, 67, 0.15);\n",
              "    fill: #174EA6;\n",
              "  }\n",
              "\n",
              "  [theme=dark] .colab-df-quickchart {\n",
              "    background-color: #3B4455;\n",
              "    fill: #D2E3FC;\n",
              "  }\n",
              "\n",
              "  [theme=dark] .colab-df-quickchart:hover {\n",
              "    background-color: #434B5C;\n",
              "    box-shadow: 0px 1px 3px 1px rgba(0, 0, 0, 0.15);\n",
              "    filter: drop-shadow(0px 1px 2px rgba(0, 0, 0, 0.3));\n",
              "    fill: #FFFFFF;\n",
              "  }\n",
              "</style>\n",
              "\n",
              "  <script>\n",
              "    async function quickchart(key) {\n",
              "      const charts = await google.colab.kernel.invokeFunction(\n",
              "          'suggestCharts', [key], {});\n",
              "    }\n",
              "    (() => {\n",
              "      let quickchartButtonEl =\n",
              "        document.querySelector('#df-0ac7b367-72f7-41ed-b3c1-ade41a6f8791 button');\n",
              "      quickchartButtonEl.style.display =\n",
              "        google.colab.kernel.accessAllowed ? 'block' : 'none';\n",
              "    })();\n",
              "  </script>\n",
              "</div>\n",
              "    </div>\n",
              "  </div>\n"
            ]
          },
          "metadata": {},
          "execution_count": 6
        }
      ],
      "source": [
        "jobs.head()"
      ]
    },
    {
      "cell_type": "code",
      "source": [
        "jobs.shape"
      ],
      "metadata": {
        "colab": {
          "base_uri": "https://localhost:8080/"
        },
        "id": "nmy-K093qC_u",
        "outputId": "2bc42d63-3ef4-47ef-c091-f4a2c47e7f3f"
      },
      "execution_count": null,
      "outputs": [
        {
          "output_type": "execute_result",
          "data": {
            "text/plain": [
              "(20000, 11)"
            ]
          },
          "metadata": {},
          "execution_count": 7
        }
      ]
    },
    {
      "cell_type": "code",
      "source": [
        "Vacancy = jobs.groupby(['Title']).size().reset_index(name='Jobs').sort_values('Jobs',ascending=False)\n",
        "Vacancy.head(10)"
      ],
      "metadata": {
        "colab": {
          "base_uri": "https://localhost:8080/",
          "height": 363
        },
        "id": "4YYdu56jwH65",
        "outputId": "d4880a02-9b03-42a7-9c26-04656853d55d"
      },
      "execution_count": null,
      "outputs": [
        {
          "output_type": "execute_result",
          "data": {
            "text/plain": [
              "                                                   Title  Jobs\n",
              "10846  Sales / Customer Service – Part or Full time –...   121\n",
              "10436                             Retail Sales Associate    93\n",
              "524                             Administrative Assistant    88\n",
              "10493                   Retail Wireless Sales Consultant    82\n",
              "2021                                             Cashier    81\n",
              "10363                      Restaurant Team Member - Crew    80\n",
              "3018                     Customer Service Representative    80\n",
              "10848                                  Sales / Franchise    71\n",
              "10492             Retail Wireless Consultant - Part Time    63\n",
              "10491                         Retail Wireless Consultant    55"
            ],
            "text/html": [
              "\n",
              "  <div id=\"df-0c8192a0-689b-4372-b97f-3b3bf0a49eff\" class=\"colab-df-container\">\n",
              "    <div>\n",
              "<style scoped>\n",
              "    .dataframe tbody tr th:only-of-type {\n",
              "        vertical-align: middle;\n",
              "    }\n",
              "\n",
              "    .dataframe tbody tr th {\n",
              "        vertical-align: top;\n",
              "    }\n",
              "\n",
              "    .dataframe thead th {\n",
              "        text-align: right;\n",
              "    }\n",
              "</style>\n",
              "<table border=\"1\" class=\"dataframe\">\n",
              "  <thead>\n",
              "    <tr style=\"text-align: right;\">\n",
              "      <th></th>\n",
              "      <th>Title</th>\n",
              "      <th>Jobs</th>\n",
              "    </tr>\n",
              "  </thead>\n",
              "  <tbody>\n",
              "    <tr>\n",
              "      <th>10846</th>\n",
              "      <td>Sales / Customer Service – Part or Full time –...</td>\n",
              "      <td>121</td>\n",
              "    </tr>\n",
              "    <tr>\n",
              "      <th>10436</th>\n",
              "      <td>Retail Sales Associate</td>\n",
              "      <td>93</td>\n",
              "    </tr>\n",
              "    <tr>\n",
              "      <th>524</th>\n",
              "      <td>Administrative Assistant</td>\n",
              "      <td>88</td>\n",
              "    </tr>\n",
              "    <tr>\n",
              "      <th>10493</th>\n",
              "      <td>Retail Wireless Sales Consultant</td>\n",
              "      <td>82</td>\n",
              "    </tr>\n",
              "    <tr>\n",
              "      <th>2021</th>\n",
              "      <td>Cashier</td>\n",
              "      <td>81</td>\n",
              "    </tr>\n",
              "    <tr>\n",
              "      <th>10363</th>\n",
              "      <td>Restaurant Team Member - Crew</td>\n",
              "      <td>80</td>\n",
              "    </tr>\n",
              "    <tr>\n",
              "      <th>3018</th>\n",
              "      <td>Customer Service Representative</td>\n",
              "      <td>80</td>\n",
              "    </tr>\n",
              "    <tr>\n",
              "      <th>10848</th>\n",
              "      <td>Sales / Franchise</td>\n",
              "      <td>71</td>\n",
              "    </tr>\n",
              "    <tr>\n",
              "      <th>10492</th>\n",
              "      <td>Retail Wireless Consultant - Part Time</td>\n",
              "      <td>63</td>\n",
              "    </tr>\n",
              "    <tr>\n",
              "      <th>10491</th>\n",
              "      <td>Retail Wireless Consultant</td>\n",
              "      <td>55</td>\n",
              "    </tr>\n",
              "  </tbody>\n",
              "</table>\n",
              "</div>\n",
              "    <div class=\"colab-df-buttons\">\n",
              "\n",
              "  <div class=\"colab-df-container\">\n",
              "    <button class=\"colab-df-convert\" onclick=\"convertToInteractive('df-0c8192a0-689b-4372-b97f-3b3bf0a49eff')\"\n",
              "            title=\"Convert this dataframe to an interactive table.\"\n",
              "            style=\"display:none;\">\n",
              "\n",
              "  <svg xmlns=\"http://www.w3.org/2000/svg\" height=\"24px\" viewBox=\"0 -960 960 960\">\n",
              "    <path d=\"M120-120v-720h720v720H120Zm60-500h600v-160H180v160Zm220 220h160v-160H400v160Zm0 220h160v-160H400v160ZM180-400h160v-160H180v160Zm440 0h160v-160H620v160ZM180-180h160v-160H180v160Zm440 0h160v-160H620v160Z\"/>\n",
              "  </svg>\n",
              "    </button>\n",
              "\n",
              "  <style>\n",
              "    .colab-df-container {\n",
              "      display:flex;\n",
              "      gap: 12px;\n",
              "    }\n",
              "\n",
              "    .colab-df-convert {\n",
              "      background-color: #E8F0FE;\n",
              "      border: none;\n",
              "      border-radius: 50%;\n",
              "      cursor: pointer;\n",
              "      display: none;\n",
              "      fill: #1967D2;\n",
              "      height: 32px;\n",
              "      padding: 0 0 0 0;\n",
              "      width: 32px;\n",
              "    }\n",
              "\n",
              "    .colab-df-convert:hover {\n",
              "      background-color: #E2EBFA;\n",
              "      box-shadow: 0px 1px 2px rgba(60, 64, 67, 0.3), 0px 1px 3px 1px rgba(60, 64, 67, 0.15);\n",
              "      fill: #174EA6;\n",
              "    }\n",
              "\n",
              "    .colab-df-buttons div {\n",
              "      margin-bottom: 4px;\n",
              "    }\n",
              "\n",
              "    [theme=dark] .colab-df-convert {\n",
              "      background-color: #3B4455;\n",
              "      fill: #D2E3FC;\n",
              "    }\n",
              "\n",
              "    [theme=dark] .colab-df-convert:hover {\n",
              "      background-color: #434B5C;\n",
              "      box-shadow: 0px 1px 3px 1px rgba(0, 0, 0, 0.15);\n",
              "      filter: drop-shadow(0px 1px 2px rgba(0, 0, 0, 0.3));\n",
              "      fill: #FFFFFF;\n",
              "    }\n",
              "  </style>\n",
              "\n",
              "    <script>\n",
              "      const buttonEl =\n",
              "        document.querySelector('#df-0c8192a0-689b-4372-b97f-3b3bf0a49eff button.colab-df-convert');\n",
              "      buttonEl.style.display =\n",
              "        google.colab.kernel.accessAllowed ? 'block' : 'none';\n",
              "\n",
              "      async function convertToInteractive(key) {\n",
              "        const element = document.querySelector('#df-0c8192a0-689b-4372-b97f-3b3bf0a49eff');\n",
              "        const dataTable =\n",
              "          await google.colab.kernel.invokeFunction('convertToInteractive',\n",
              "                                                    [key], {});\n",
              "        if (!dataTable) return;\n",
              "\n",
              "        const docLinkHtml = 'Like what you see? Visit the ' +\n",
              "          '<a target=\"_blank\" href=https://colab.research.google.com/notebooks/data_table.ipynb>data table notebook</a>'\n",
              "          + ' to learn more about interactive tables.';\n",
              "        element.innerHTML = '';\n",
              "        dataTable['output_type'] = 'display_data';\n",
              "        await google.colab.output.renderOutput(dataTable, element);\n",
              "        const docLink = document.createElement('div');\n",
              "        docLink.innerHTML = docLinkHtml;\n",
              "        element.appendChild(docLink);\n",
              "      }\n",
              "    </script>\n",
              "  </div>\n",
              "\n",
              "\n",
              "<div id=\"df-328602da-7119-4ef8-ac58-fffab49c13eb\">\n",
              "  <button class=\"colab-df-quickchart\" onclick=\"quickchart('df-328602da-7119-4ef8-ac58-fffab49c13eb')\"\n",
              "            title=\"Suggest charts.\"\n",
              "            style=\"display:none;\">\n",
              "\n",
              "<svg xmlns=\"http://www.w3.org/2000/svg\" height=\"24px\"viewBox=\"0 0 24 24\"\n",
              "     width=\"24px\">\n",
              "    <g>\n",
              "        <path d=\"M19 3H5c-1.1 0-2 .9-2 2v14c0 1.1.9 2 2 2h14c1.1 0 2-.9 2-2V5c0-1.1-.9-2-2-2zM9 17H7v-7h2v7zm4 0h-2V7h2v10zm4 0h-2v-4h2v4z\"/>\n",
              "    </g>\n",
              "</svg>\n",
              "  </button>\n",
              "\n",
              "<style>\n",
              "  .colab-df-quickchart {\n",
              "    background-color: #E8F0FE;\n",
              "    border: none;\n",
              "    border-radius: 50%;\n",
              "    cursor: pointer;\n",
              "    display: none;\n",
              "    fill: #1967D2;\n",
              "    height: 32px;\n",
              "    padding: 0 0 0 0;\n",
              "    width: 32px;\n",
              "  }\n",
              "\n",
              "  .colab-df-quickchart:hover {\n",
              "    background-color: #E2EBFA;\n",
              "    box-shadow: 0px 1px 2px rgba(60, 64, 67, 0.3), 0px 1px 3px 1px rgba(60, 64, 67, 0.15);\n",
              "    fill: #174EA6;\n",
              "  }\n",
              "\n",
              "  [theme=dark] .colab-df-quickchart {\n",
              "    background-color: #3B4455;\n",
              "    fill: #D2E3FC;\n",
              "  }\n",
              "\n",
              "  [theme=dark] .colab-df-quickchart:hover {\n",
              "    background-color: #434B5C;\n",
              "    box-shadow: 0px 1px 3px 1px rgba(0, 0, 0, 0.15);\n",
              "    filter: drop-shadow(0px 1px 2px rgba(0, 0, 0, 0.3));\n",
              "    fill: #FFFFFF;\n",
              "  }\n",
              "</style>\n",
              "\n",
              "  <script>\n",
              "    async function quickchart(key) {\n",
              "      const charts = await google.colab.kernel.invokeFunction(\n",
              "          'suggestCharts', [key], {});\n",
              "    }\n",
              "    (() => {\n",
              "      let quickchartButtonEl =\n",
              "        document.querySelector('#df-328602da-7119-4ef8-ac58-fffab49c13eb button');\n",
              "      quickchartButtonEl.style.display =\n",
              "        google.colab.kernel.accessAllowed ? 'block' : 'none';\n",
              "    })();\n",
              "  </script>\n",
              "</div>\n",
              "    </div>\n",
              "  </div>\n"
            ]
          },
          "metadata": {},
          "execution_count": 99
        }
      ]
    },
    {
      "cell_type": "code",
      "source": [
        "plt.figure(figsize=(20,5))\n",
        "ax = sns.barplot(x=\"Jobs\", y=\"Title\",data=Vacancy)\n",
        "ax.set_xticklabels(ax.get_xticklabels(), rotation=0, ha=\"right\")\n",
        "ax.set_title('Field wise job data we have (Top 15)')\n",
        "plt.tight_layout()\n",
        "plt.show()"
      ],
      "metadata": {
        "colab": {
          "base_uri": "https://localhost:8080/",
          "height": 433
        },
        "id": "7xx4ValBwbDa",
        "outputId": "1e2a967e-cc7e-40dc-f22a-cea024a7ab74"
      },
      "execution_count": null,
      "outputs": [
        {
          "output_type": "stream",
          "name": "stderr",
          "text": [
            "<ipython-input-9-eff201d7c424>:3: UserWarning: FixedFormatter should only be used together with FixedLocator\n",
            "  ax.set_xticklabels(ax.get_xticklabels(), rotation=0, ha=\"right\")\n"
          ]
        },
        {
          "output_type": "display_data",
          "data": {
            "text/plain": [
              "<Figure size 2000x500 with 1 Axes>"
            ],
            "image/png": "[encoded data removed]"
          },
          "metadata": {}
        }
      ]
    },
    {
      "cell_type": "markdown",
      "source": [
        "**The Resume Data**"
      ],
      "metadata": {
        "id": "nfrCgYNk5t9S"
      }
    },
    {
      "cell_type": "code",
      "execution_count": null,
      "metadata": {
        "id": "tFIrZGK25-Vj"
      },
      "outputs": [],
      "source": [
        "history = history.drop(['WindowID','Split','Sequence'], axis=1)"
      ]
    },
    {
      "cell_type": "code",
      "execution_count": null,
      "metadata": {
        "id": "OUlnqJSe5-Vo"
      },
      "outputs": [],
      "source": [
        "Resume = pd.merge(resume, history, on='UserID')"
      ]
    },
    {
      "cell_type": "code",
      "execution_count": null,
      "metadata": {
        "id": "KGgMA4Io5-Vo"
      },
      "outputs": [],
      "source": [
        "Resume = Resume.drop(['ManagedHowMany'], axis=1)"
      ]
    },
    {
      "cell_type": "code",
      "execution_count": null,
      "metadata": {
        "id": "DSwaxofG5-Vo"
      },
      "outputs": [],
      "source": [
        "Resume = Resume.drop(['WindowID','City','State','Country','ZipCode','GraduationDate'], axis=1)"
      ]
    },
    {
      "cell_type": "code",
      "source": [
        "Resume = Resume.drop(['Split'], axis=1)"
      ],
      "metadata": {
        "id": "7LHyE2DcPVIL"
      },
      "execution_count": null,
      "outputs": []
    },
    {
      "cell_type": "code",
      "execution_count": null,
      "metadata": {
        "id": "hTwNZM7B5-Vo"
      },
      "outputs": [],
      "source": [
        "# Check for NaN values in the 'Major' column\n",
        "missing_major_rows = Resume[Resume['Major'].isnull()]"
      ]
    },
    {
      "cell_type": "code",
      "execution_count": null,
      "metadata": {
        "id": "gXBq3K225-Vp"
      },
      "outputs": [],
      "source": [
        "# Drop rows where 'Major' has a NaN value\n",
        "Resume = Resume.dropna(subset=['Major'])"
      ]
    },
    {
      "cell_type": "code",
      "execution_count": null,
      "metadata": {
        "id": "2wLBQ6L05-Vp",
        "colab": {
          "base_uri": "https://localhost:8080/",
          "height": 206
        },
        "outputId": "cc88d769-253a-4a1a-8485-aa7fce2962c2"
      },
      "outputs": [
        {
          "output_type": "execute_result",
          "data": {
            "text/plain": [
              "   UserID DegreeType         Major  WorkHistoryCount  TotalYearsExperience  \\\n",
              "3      72   Master's  Anthropology                10                   8.0   \n",
              "4      72   Master's  Anthropology                10                   8.0   \n",
              "5      72   Master's  Anthropology                10                   8.0   \n",
              "6      72   Master's  Anthropology                10                   8.0   \n",
              "7      72   Master's  Anthropology                10                   8.0   \n",
              "\n",
              "  CurrentlyEmployed ManagedOthers                              JobTitle  \n",
              "3               Yes            No  Lecturer, Department of Anthropology  \n",
              "4               Yes            No                     Student Assistant  \n",
              "5               Yes            No                     Elderly Caregiver  \n",
              "6               Yes            No                                   NaN  \n",
              "7               Yes            No      Department Assistant, Department  "
            ],
            "text/html": [
              "\n",
              "  <div id=\"df-6f439a08-10be-4659-b9e4-335d2533a010\" class=\"colab-df-container\">\n",
              "    <div>\n",
              "<style scoped>\n",
              "    .dataframe tbody tr th:only-of-type {\n",
              "        vertical-align: middle;\n",
              "    }\n",
              "\n",
              "    .dataframe tbody tr th {\n",
              "        vertical-align: top;\n",
              "    }\n",
              "\n",
              "    .dataframe thead th {\n",
              "        text-align: right;\n",
              "    }\n",
              "</style>\n",
              "<table border=\"1\" class=\"dataframe\">\n",
              "  <thead>\n",
              "    <tr style=\"text-align: right;\">\n",
              "      <th></th>\n",
              "      <th>UserID</th>\n",
              "      <th>DegreeType</th>\n",
              "      <th>Major</th>\n",
              "      <th>WorkHistoryCount</th>\n",
              "      <th>TotalYearsExperience</th>\n",
              "      <th>CurrentlyEmployed</th>\n",
              "      <th>ManagedOthers</th>\n",
              "      <th>JobTitle</th>\n",
              "    </tr>\n",
              "  </thead>\n",
              "  <tbody>\n",
              "    <tr>\n",
              "      <th>3</th>\n",
              "      <td>72</td>\n",
              "      <td>Master's</td>\n",
              "      <td>Anthropology</td>\n",
              "      <td>10</td>\n",
              "      <td>8.0</td>\n",
              "      <td>Yes</td>\n",
              "      <td>No</td>\n",
              "      <td>Lecturer, Department of Anthropology</td>\n",
              "    </tr>\n",
              "    <tr>\n",
              "      <th>4</th>\n",
              "      <td>72</td>\n",
              "      <td>Master's</td>\n",
              "      <td>Anthropology</td>\n",
              "      <td>10</td>\n",
              "      <td>8.0</td>\n",
              "      <td>Yes</td>\n",
              "      <td>No</td>\n",
              "      <td>Student Assistant</td>\n",
              "    </tr>\n",
              "    <tr>\n",
              "      <th>5</th>\n",
              "      <td>72</td>\n",
              "      <td>Master's</td>\n",
              "      <td>Anthropology</td>\n",
              "      <td>10</td>\n",
              "      <td>8.0</td>\n",
              "      <td>Yes</td>\n",
              "      <td>No</td>\n",
              "      <td>Elderly Caregiver</td>\n",
              "    </tr>\n",
              "    <tr>\n",
              "      <th>6</th>\n",
              "      <td>72</td>\n",
              "      <td>Master's</td>\n",
              "      <td>Anthropology</td>\n",
              "      <td>10</td>\n",
              "      <td>8.0</td>\n",
              "      <td>Yes</td>\n",
              "      <td>No</td>\n",
              "      <td>NaN</td>\n",
              "    </tr>\n",
              "    <tr>\n",
              "      <th>7</th>\n",
              "      <td>72</td>\n",
              "      <td>Master's</td>\n",
              "      <td>Anthropology</td>\n",
              "      <td>10</td>\n",
              "      <td>8.0</td>\n",
              "      <td>Yes</td>\n",
              "      <td>No</td>\n",
              "      <td>Department Assistant, Department</td>\n",
              "    </tr>\n",
              "  </tbody>\n",
              "</table>\n",
              "</div>\n",
              "    <div class=\"colab-df-buttons\">\n",
              "\n",
              "  <div class=\"colab-df-container\">\n",
              "    <button class=\"colab-df-convert\" onclick=\"convertToInteractive('df-6f439a08-10be-4659-b9e4-335d2533a010')\"\n",
              "            title=\"Convert this dataframe to an interactive table.\"\n",
              "            style=\"display:none;\">\n",
              "\n",
              "  <svg xmlns=\"http://www.w3.org/2000/svg\" height=\"24px\" viewBox=\"0 -960 960 960\">\n",
              "    <path d=\"M120-120v-720h720v720H120Zm60-500h600v-160H180v160Zm220 220h160v-160H400v160Zm0 220h160v-160H400v160ZM180-400h160v-160H180v160Zm440 0h160v-160H620v160ZM180-180h160v-160H180v160Zm440 0h160v-160H620v160Z\"/>\n",
              "  </svg>\n",
              "    </button>\n",
              "\n",
              "  <style>\n",
              "    .colab-df-container {\n",
              "      display:flex;\n",
              "      gap: 12px;\n",
              "    }\n",
              "\n",
              "    .colab-df-convert {\n",
              "      background-color: #E8F0FE;\n",
              "      border: none;\n",
              "      border-radius: 50%;\n",
              "      cursor: pointer;\n",
              "      display: none;\n",
              "      fill: #1967D2;\n",
              "      height: 32px;\n",
              "      padding: 0 0 0 0;\n",
              "      width: 32px;\n",
              "    }\n",
              "\n",
              "    .colab-df-convert:hover {\n",
              "      background-color: #E2EBFA;\n",
              "      box-shadow: 0px 1px 2px rgba(60, 64, 67, 0.3), 0px 1px 3px 1px rgba(60, 64, 67, 0.15);\n",
              "      fill: #174EA6;\n",
              "    }\n",
              "\n",
              "    .colab-df-buttons div {\n",
              "      margin-bottom: 4px;\n",
              "    }\n",
              "\n",
              "    [theme=dark] .colab-df-convert {\n",
              "      background-color: #3B4455;\n",
              "      fill: #D2E3FC;\n",
              "    }\n",
              "\n",
              "    [theme=dark] .colab-df-convert:hover {\n",
              "      background-color: #434B5C;\n",
              "      box-shadow: 0px 1px 3px 1px rgba(0, 0, 0, 0.15);\n",
              "      filter: drop-shadow(0px 1px 2px rgba(0, 0, 0, 0.3));\n",
              "      fill: #FFFFFF;\n",
              "    }\n",
              "  </style>\n",
              "\n",
              "    <script>\n",
              "      const buttonEl =\n",
              "        document.querySelector('#df-6f439a08-10be-4659-b9e4-335d2533a010 button.colab-df-convert');\n",
              "      buttonEl.style.display =\n",
              "        google.colab.kernel.accessAllowed ? 'block' : 'none';\n",
              "\n",
              "      async function convertToInteractive(key) {\n",
              "        const element = document.querySelector('#df-6f439a08-10be-4659-b9e4-335d2533a010');\n",
              "        const dataTable =\n",
              "          await google.colab.kernel.invokeFunction('convertToInteractive',\n",
              "                                                    [key], {});\n",
              "        if (!dataTable) return;\n",
              "\n",
              "        const docLinkHtml = 'Like what you see? Visit the ' +\n",
              "          '<a target=\"_blank\" href=https://colab.research.google.com/notebooks/data_table.ipynb>data table notebook</a>'\n",
              "          + ' to learn more about interactive tables.';\n",
              "        element.innerHTML = '';\n",
              "        dataTable['output_type'] = 'display_data';\n",
              "        await google.colab.output.renderOutput(dataTable, element);\n",
              "        const docLink = document.createElement('div');\n",
              "        docLink.innerHTML = docLinkHtml;\n",
              "        element.appendChild(docLink);\n",
              "      }\n",
              "    </script>\n",
              "  </div>\n",
              "\n",
              "\n",
              "<div id=\"df-0dfb2af9-b10a-454c-bb18-423ebc75619f\">\n",
              "  <button class=\"colab-df-quickchart\" onclick=\"quickchart('df-0dfb2af9-b10a-454c-bb18-423ebc75619f')\"\n",
              "            title=\"Suggest charts.\"\n",
              "            style=\"display:none;\">\n",
              "\n",
              "<svg xmlns=\"http://www.w3.org/2000/svg\" height=\"24px\"viewBox=\"0 0 24 24\"\n",
              "     width=\"24px\">\n",
              "    <g>\n",
              "        <path d=\"M19 3H5c-1.1 0-2 .9-2 2v14c0 1.1.9 2 2 2h14c1.1 0 2-.9 2-2V5c0-1.1-.9-2-2-2zM9 17H7v-7h2v7zm4 0h-2V7h2v10zm4 0h-2v-4h2v4z\"/>\n",
              "    </g>\n",
              "</svg>\n",
              "  </button>\n",
              "\n",
              "<style>\n",
              "  .colab-df-quickchart {\n",
              "    background-color: #E8F0FE;\n",
              "    border: none;\n",
              "    border-radius: 50%;\n",
              "    cursor: pointer;\n",
              "    display: none;\n",
              "    fill: #1967D2;\n",
              "    height: 32px;\n",
              "    padding: 0 0 0 0;\n",
              "    width: 32px;\n",
              "  }\n",
              "\n",
              "  .colab-df-quickchart:hover {\n",
              "    background-color: #E2EBFA;\n",
              "    box-shadow: 0px 1px 2px rgba(60, 64, 67, 0.3), 0px 1px 3px 1px rgba(60, 64, 67, 0.15);\n",
              "    fill: #174EA6;\n",
              "  }\n",
              "\n",
              "  [theme=dark] .colab-df-quickchart {\n",
              "    background-color: #3B4455;\n",
              "    fill: #D2E3FC;\n",
              "  }\n",
              "\n",
              "  [theme=dark] .colab-df-quickchart:hover {\n",
              "    background-color: #434B5C;\n",
              "    box-shadow: 0px 1px 3px 1px rgba(0, 0, 0, 0.15);\n",
              "    filter: drop-shadow(0px 1px 2px rgba(0, 0, 0, 0.3));\n",
              "    fill: #FFFFFF;\n",
              "  }\n",
              "</style>\n",
              "\n",
              "  <script>\n",
              "    async function quickchart(key) {\n",
              "      const charts = await google.colab.kernel.invokeFunction(\n",
              "          'suggestCharts', [key], {});\n",
              "    }\n",
              "    (() => {\n",
              "      let quickchartButtonEl =\n",
              "        document.querySelector('#df-0dfb2af9-b10a-454c-bb18-423ebc75619f button');\n",
              "      quickchartButtonEl.style.display =\n",
              "        google.colab.kernel.accessAllowed ? 'block' : 'none';\n",
              "    })();\n",
              "  </script>\n",
              "</div>\n",
              "    </div>\n",
              "  </div>\n"
            ]
          },
          "metadata": {},
          "execution_count": 17
        }
      ],
      "source": [
        "Resume.head()"
      ]
    },
    {
      "cell_type": "code",
      "source": [
        "Resume = Resume.dropna()"
      ],
      "metadata": {
        "id": "8_oGkgsDrS34"
      },
      "execution_count": null,
      "outputs": []
    },
    {
      "cell_type": "code",
      "source": [
        "Resume.shape"
      ],
      "metadata": {
        "id": "Wqmk7xC4rWYg",
        "colab": {
          "base_uri": "https://localhost:8080/"
        },
        "outputId": "2cc07910-a2f7-4b39-a8e7-bc7f9978405f"
      },
      "execution_count": null,
      "outputs": [
        {
          "output_type": "execute_result",
          "data": {
            "text/plain": [
              "(1144557, 8)"
            ]
          },
          "metadata": {},
          "execution_count": 19
        }
      ]
    },
    {
      "cell_type": "code",
      "source": [
        "df = pd.DataFrame(Resume)"
      ],
      "metadata": {
        "id": "1089jkEKrbGv"
      },
      "execution_count": null,
      "outputs": []
    },
    {
      "cell_type": "code",
      "source": [
        "Resume = df.groupby(['UserID', 'DegreeType', 'Major', 'WorkHistoryCount', 'TotalYearsExperience', 'CurrentlyEmployed', 'ManagedOthers']).agg({'JobTitle': lambda x: list(x)}).reset_index()"
      ],
      "metadata": {
        "id": "uVroOPHWrg8f"
      },
      "execution_count": null,
      "outputs": []
    },
    {
      "cell_type": "code",
      "source": [
        "# Display the resulting DataFrame\n",
        "Resume.rename(columns={'JobTitle': 'Job History'}, inplace=True)"
      ],
      "metadata": {
        "id": "ZlESXWICroDi"
      },
      "execution_count": null,
      "outputs": []
    },
    {
      "cell_type": "code",
      "source": [
        "Resume.shape"
      ],
      "metadata": {
        "id": "GfaozcvcrrU3",
        "colab": {
          "base_uri": "https://localhost:8080/"
        },
        "outputId": "4e8410b3-ebec-4316-98f0-ea31d256f442"
      },
      "execution_count": null,
      "outputs": [
        {
          "output_type": "execute_result",
          "data": {
            "text/plain": [
              "(256021, 8)"
            ]
          },
          "metadata": {},
          "execution_count": 23
        }
      ]
    },
    {
      "cell_type": "code",
      "source": [
        "Resume.head(3)"
      ],
      "metadata": {
        "id": "svk7m7U0sDjH",
        "colab": {
          "base_uri": "https://localhost:8080/",
          "height": 143
        },
        "outputId": "82c86253-f7a9-435b-c226-a06350904720"
      },
      "execution_count": null,
      "outputs": [
        {
          "output_type": "execute_result",
          "data": {
            "text/plain": [
              "   UserID   DegreeType                            Major  WorkHistoryCount  \\\n",
              "0       7  High School                   Not Applicable                 2   \n",
              "1       9  High School                   Not Applicable                 3   \n",
              "2      13   Bachelor's  Psychological & Social Sciences                 6   \n",
              "\n",
              "   TotalYearsExperience CurrentlyEmployed ManagedOthers  \\\n",
              "0                  13.0               Yes            No   \n",
              "1                   3.0               Yes            No   \n",
              "2                   5.0               Yes            No   \n",
              "\n",
              "                                         Job History  \n",
              "0  [Front End Supervisor/Cashier, Customer Servic...  \n",
              "1                       [Cook, Mechanic, File Clerk]  \n",
              "2  [Pennsylvania Mentor, Student Worker, Internsh...  "
            ],
            "text/html": [
              "\n",
              "  <div id=\"df-10d271c4-50dd-46c0-a25b-192aba9c0542\" class=\"colab-df-container\">\n",
              "    <div>\n",
              "<style scoped>\n",
              "    .dataframe tbody tr th:only-of-type {\n",
              "        vertical-align: middle;\n",
              "    }\n",
              "\n",
              "    .dataframe tbody tr th {\n",
              "        vertical-align: top;\n",
              "    }\n",
              "\n",
              "    .dataframe thead th {\n",
              "        text-align: right;\n",
              "    }\n",
              "</style>\n",
              "<table border=\"1\" class=\"dataframe\">\n",
              "  <thead>\n",
              "    <tr style=\"text-align: right;\">\n",
              "      <th></th>\n",
              "      <th>UserID</th>\n",
              "      <th>DegreeType</th>\n",
              "      <th>Major</th>\n",
              "      <th>WorkHistoryCount</th>\n",
              "      <th>TotalYearsExperience</th>\n",
              "      <th>CurrentlyEmployed</th>\n",
              "      <th>ManagedOthers</th>\n",
              "      <th>Job History</th>\n",
              "    </tr>\n",
              "  </thead>\n",
              "  <tbody>\n",
              "    <tr>\n",
              "      <th>0</th>\n",
              "      <td>7</td>\n",
              "      <td>High School</td>\n",
              "      <td>Not Applicable</td>\n",
              "      <td>2</td>\n",
              "      <td>13.0</td>\n",
              "      <td>Yes</td>\n",
              "      <td>No</td>\n",
              "      <td>[Front End Supervisor/Cashier, Customer Servic...</td>\n",
              "    </tr>\n",
              "    <tr>\n",
              "      <th>1</th>\n",
              "      <td>9</td>\n",
              "      <td>High School</td>\n",
              "      <td>Not Applicable</td>\n",
              "      <td>3</td>\n",
              "      <td>3.0</td>\n",
              "      <td>Yes</td>\n",
              "      <td>No</td>\n",
              "      <td>[Cook, Mechanic, File Clerk]</td>\n",
              "    </tr>\n",
              "    <tr>\n",
              "      <th>2</th>\n",
              "      <td>13</td>\n",
              "      <td>Bachelor's</td>\n",
              "      <td>Psychological &amp; Social Sciences</td>\n",
              "      <td>6</td>\n",
              "      <td>5.0</td>\n",
              "      <td>Yes</td>\n",
              "      <td>No</td>\n",
              "      <td>[Pennsylvania Mentor, Student Worker, Internsh...</td>\n",
              "    </tr>\n",
              "  </tbody>\n",
              "</table>\n",
              "</div>\n",
              "    <div class=\"colab-df-buttons\">\n",
              "\n",
              "  <div class=\"colab-df-container\">\n",
              "    <button class=\"colab-df-convert\" onclick=\"convertToInteractive('df-10d271c4-50dd-46c0-a25b-192aba9c0542')\"\n",
              "            title=\"Convert this dataframe to an interactive table.\"\n",
              "            style=\"display:none;\">\n",
              "\n",
              "  <svg xmlns=\"http://www.w3.org/2000/svg\" height=\"24px\" viewBox=\"0 -960 960 960\">\n",
              "    <path d=\"M120-120v-720h720v720H120Zm60-500h600v-160H180v160Zm220 220h160v-160H400v160Zm0 220h160v-160H400v160ZM180-400h160v-160H180v160Zm440 0h160v-160H620v160ZM180-180h160v-160H180v160Zm440 0h160v-160H620v160Z\"/>\n",
              "  </svg>\n",
              "    </button>\n",
              "\n",
              "  <style>\n",
              "    .colab-df-container {\n",
              "      display:flex;\n",
              "      gap: 12px;\n",
              "    }\n",
              "\n",
              "    .colab-df-convert {\n",
              "      background-color: #E8F0FE;\n",
              "      border: none;\n",
              "      border-radius: 50%;\n",
              "      cursor: pointer;\n",
              "      display: none;\n",
              "      fill: #1967D2;\n",
              "      height: 32px;\n",
              "      padding: 0 0 0 0;\n",
              "      width: 32px;\n",
              "    }\n",
              "\n",
              "    .colab-df-convert:hover {\n",
              "      background-color: #E2EBFA;\n",
              "      box-shadow: 0px 1px 2px rgba(60, 64, 67, 0.3), 0px 1px 3px 1px rgba(60, 64, 67, 0.15);\n",
              "      fill: #174EA6;\n",
              "    }\n",
              "\n",
              "    .colab-df-buttons div {\n",
              "      margin-bottom: 4px;\n",
              "    }\n",
              "\n",
              "    [theme=dark] .colab-df-convert {\n",
              "      background-color: #3B4455;\n",
              "      fill: #D2E3FC;\n",
              "    }\n",
              "\n",
              "    [theme=dark] .colab-df-convert:hover {\n",
              "      background-color: #434B5C;\n",
              "      box-shadow: 0px 1px 3px 1px rgba(0, 0, 0, 0.15);\n",
              "      filter: drop-shadow(0px 1px 2px rgba(0, 0, 0, 0.3));\n",
              "      fill: #FFFFFF;\n",
              "    }\n",
              "  </style>\n",
              "\n",
              "    <script>\n",
              "      const buttonEl =\n",
              "        document.querySelector('#df-10d271c4-50dd-46c0-a25b-192aba9c0542 button.colab-df-convert');\n",
              "      buttonEl.style.display =\n",
              "        google.colab.kernel.accessAllowed ? 'block' : 'none';\n",
              "\n",
              "      async function convertToInteractive(key) {\n",
              "        const element = document.querySelector('#df-10d271c4-50dd-46c0-a25b-192aba9c0542');\n",
              "        const dataTable =\n",
              "          await google.colab.kernel.invokeFunction('convertToInteractive',\n",
              "                                                    [key], {});\n",
              "        if (!dataTable) return;\n",
              "\n",
              "        const docLinkHtml = 'Like what you see? Visit the ' +\n",
              "          '<a target=\"_blank\" href=https://colab.research.google.com/notebooks/data_table.ipynb>data table notebook</a>'\n",
              "          + ' to learn more about interactive tables.';\n",
              "        element.innerHTML = '';\n",
              "        dataTable['output_type'] = 'display_data';\n",
              "        await google.colab.output.renderOutput(dataTable, element);\n",
              "        const docLink = document.createElement('div');\n",
              "        docLink.innerHTML = docLinkHtml;\n",
              "        element.appendChild(docLink);\n",
              "      }\n",
              "    </script>\n",
              "  </div>\n",
              "\n",
              "    </div>\n",
              "  </div>\n"
            ]
          },
          "metadata": {},
          "execution_count": 24
        }
      ]
    },
    {
      "cell_type": "code",
      "source": [
        "Users = Resume.groupby(['DegreeType']).size().reset_index(name='Users').sort_values('Users',ascending=False).head(10)\n",
        "Users"
      ],
      "metadata": {
        "colab": {
          "base_uri": "https://localhost:8080/",
          "height": 269
        },
        "id": "iP90528Ex6BJ",
        "outputId": "ed13d2b5-a41a-48ce-af11-1cfb76f7cedf"
      },
      "execution_count": null,
      "outputs": [
        {
          "output_type": "execute_result",
          "data": {
            "text/plain": [
              "    DegreeType  Users\n",
              "1   Bachelor's  84836\n",
              "2  High School  68721\n",
              "0  Associate's  35519\n",
              "4         None  33298\n",
              "3     Master's  25440\n",
              "6   Vocational   5698\n",
              "5          PhD   2509"
            ],
            "text/html": [
              "\n",
              "  <div id=\"df-d792090e-0b2b-436f-b699-3f267626d492\" class=\"colab-df-container\">\n",
              "    <div>\n",
              "<style scoped>\n",
              "    .dataframe tbody tr th:only-of-type {\n",
              "        vertical-align: middle;\n",
              "    }\n",
              "\n",
              "    .dataframe tbody tr th {\n",
              "        vertical-align: top;\n",
              "    }\n",
              "\n",
              "    .dataframe thead th {\n",
              "        text-align: right;\n",
              "    }\n",
              "</style>\n",
              "<table border=\"1\" class=\"dataframe\">\n",
              "  <thead>\n",
              "    <tr style=\"text-align: right;\">\n",
              "      <th></th>\n",
              "      <th>DegreeType</th>\n",
              "      <th>Users</th>\n",
              "    </tr>\n",
              "  </thead>\n",
              "  <tbody>\n",
              "    <tr>\n",
              "      <th>1</th>\n",
              "      <td>Bachelor's</td>\n",
              "      <td>84836</td>\n",
              "    </tr>\n",
              "    <tr>\n",
              "      <th>2</th>\n",
              "      <td>High School</td>\n",
              "      <td>68721</td>\n",
              "    </tr>\n",
              "    <tr>\n",
              "      <th>0</th>\n",
              "      <td>Associate's</td>\n",
              "      <td>35519</td>\n",
              "    </tr>\n",
              "    <tr>\n",
              "      <th>4</th>\n",
              "      <td>None</td>\n",
              "      <td>33298</td>\n",
              "    </tr>\n",
              "    <tr>\n",
              "      <th>3</th>\n",
              "      <td>Master's</td>\n",
              "      <td>25440</td>\n",
              "    </tr>\n",
              "    <tr>\n",
              "      <th>6</th>\n",
              "      <td>Vocational</td>\n",
              "      <td>5698</td>\n",
              "    </tr>\n",
              "    <tr>\n",
              "      <th>5</th>\n",
              "      <td>PhD</td>\n",
              "      <td>2509</td>\n",
              "    </tr>\n",
              "  </tbody>\n",
              "</table>\n",
              "</div>\n",
              "    <div class=\"colab-df-buttons\">\n",
              "\n",
              "  <div class=\"colab-df-container\">\n",
              "    <button class=\"colab-df-convert\" onclick=\"convertToInteractive('df-d792090e-0b2b-436f-b699-3f267626d492')\"\n",
              "            title=\"Convert this dataframe to an interactive table.\"\n",
              "            style=\"display:none;\">\n",
              "\n",
              "  <svg xmlns=\"http://www.w3.org/2000/svg\" height=\"24px\" viewBox=\"0 -960 960 960\">\n",
              "    <path d=\"M120-120v-720h720v720H120Zm60-500h600v-160H180v160Zm220 220h160v-160H400v160Zm0 220h160v-160H400v160ZM180-400h160v-160H180v160Zm440 0h160v-160H620v160ZM180-180h160v-160H180v160Zm440 0h160v-160H620v160Z\"/>\n",
              "  </svg>\n",
              "    </button>\n",
              "\n",
              "  <style>\n",
              "    .colab-df-container {\n",
              "      display:flex;\n",
              "      gap: 12px;\n",
              "    }\n",
              "\n",
              "    .colab-df-convert {\n",
              "      background-color: #E8F0FE;\n",
              "      border: none;\n",
              "      border-radius: 50%;\n",
              "      cursor: pointer;\n",
              "      display: none;\n",
              "      fill: #1967D2;\n",
              "      height: 32px;\n",
              "      padding: 0 0 0 0;\n",
              "      width: 32px;\n",
              "    }\n",
              "\n",
              "    .colab-df-convert:hover {\n",
              "      background-color: #E2EBFA;\n",
              "      box-shadow: 0px 1px 2px rgba(60, 64, 67, 0.3), 0px 1px 3px 1px rgba(60, 64, 67, 0.15);\n",
              "      fill: #174EA6;\n",
              "    }\n",
              "\n",
              "    .colab-df-buttons div {\n",
              "      margin-bottom: 4px;\n",
              "    }\n",
              "\n",
              "    [theme=dark] .colab-df-convert {\n",
              "      background-color: #3B4455;\n",
              "      fill: #D2E3FC;\n",
              "    }\n",
              "\n",
              "    [theme=dark] .colab-df-convert:hover {\n",
              "      background-color: #434B5C;\n",
              "      box-shadow: 0px 1px 3px 1px rgba(0, 0, 0, 0.15);\n",
              "      filter: drop-shadow(0px 1px 2px rgba(0, 0, 0, 0.3));\n",
              "      fill: #FFFFFF;\n",
              "    }\n",
              "  </style>\n",
              "\n",
              "    <script>\n",
              "      const buttonEl =\n",
              "        document.querySelector('#df-d792090e-0b2b-436f-b699-3f267626d492 button.colab-df-convert');\n",
              "      buttonEl.style.display =\n",
              "        google.colab.kernel.accessAllowed ? 'block' : 'none';\n",
              "\n",
              "      async function convertToInteractive(key) {\n",
              "        const element = document.querySelector('#df-d792090e-0b2b-436f-b699-3f267626d492');\n",
              "        const dataTable =\n",
              "          await google.colab.kernel.invokeFunction('convertToInteractive',\n",
              "                                                    [key], {});\n",
              "        if (!dataTable) return;\n",
              "\n",
              "        const docLinkHtml = 'Like what you see? Visit the ' +\n",
              "          '<a target=\"_blank\" href=https://colab.research.google.com/notebooks/data_table.ipynb>data table notebook</a>'\n",
              "          + ' to learn more about interactive tables.';\n",
              "        element.innerHTML = '';\n",
              "        dataTable['output_type'] = 'display_data';\n",
              "        await google.colab.output.renderOutput(dataTable, element);\n",
              "        const docLink = document.createElement('div');\n",
              "        docLink.innerHTML = docLinkHtml;\n",
              "        element.appendChild(docLink);\n",
              "      }\n",
              "    </script>\n",
              "  </div>\n",
              "\n",
              "\n",
              "<div id=\"df-9abf423a-5d94-4b10-a750-fa9c12c925a0\">\n",
              "  <button class=\"colab-df-quickchart\" onclick=\"quickchart('df-9abf423a-5d94-4b10-a750-fa9c12c925a0')\"\n",
              "            title=\"Suggest charts.\"\n",
              "            style=\"display:none;\">\n",
              "\n",
              "<svg xmlns=\"http://www.w3.org/2000/svg\" height=\"24px\"viewBox=\"0 0 24 24\"\n",
              "     width=\"24px\">\n",
              "    <g>\n",
              "        <path d=\"M19 3H5c-1.1 0-2 .9-2 2v14c0 1.1.9 2 2 2h14c1.1 0 2-.9 2-2V5c0-1.1-.9-2-2-2zM9 17H7v-7h2v7zm4 0h-2V7h2v10zm4 0h-2v-4h2v4z\"/>\n",
              "    </g>\n",
              "</svg>\n",
              "  </button>\n",
              "\n",
              "<style>\n",
              "  .colab-df-quickchart {\n",
              "    background-color: #E8F0FE;\n",
              "    border: none;\n",
              "    border-radius: 50%;\n",
              "    cursor: pointer;\n",
              "    display: none;\n",
              "    fill: #1967D2;\n",
              "    height: 32px;\n",
              "    padding: 0 0 0 0;\n",
              "    width: 32px;\n",
              "  }\n",
              "\n",
              "  .colab-df-quickchart:hover {\n",
              "    background-color: #E2EBFA;\n",
              "    box-shadow: 0px 1px 2px rgba(60, 64, 67, 0.3), 0px 1px 3px 1px rgba(60, 64, 67, 0.15);\n",
              "    fill: #174EA6;\n",
              "  }\n",
              "\n",
              "  [theme=dark] .colab-df-quickchart {\n",
              "    background-color: #3B4455;\n",
              "    fill: #D2E3FC;\n",
              "  }\n",
              "\n",
              "  [theme=dark] .colab-df-quickchart:hover {\n",
              "    background-color: #434B5C;\n",
              "    box-shadow: 0px 1px 3px 1px rgba(0, 0, 0, 0.15);\n",
              "    filter: drop-shadow(0px 1px 2px rgba(0, 0, 0, 0.3));\n",
              "    fill: #FFFFFF;\n",
              "  }\n",
              "</style>\n",
              "\n",
              "  <script>\n",
              "    async function quickchart(key) {\n",
              "      const charts = await google.colab.kernel.invokeFunction(\n",
              "          'suggestCharts', [key], {});\n",
              "    }\n",
              "    (() => {\n",
              "      let quickchartButtonEl =\n",
              "        document.querySelector('#df-9abf423a-5d94-4b10-a750-fa9c12c925a0 button');\n",
              "      quickchartButtonEl.style.display =\n",
              "        google.colab.kernel.accessAllowed ? 'block' : 'none';\n",
              "    })();\n",
              "  </script>\n",
              "</div>\n",
              "    </div>\n",
              "  </div>\n"
            ]
          },
          "metadata": {},
          "execution_count": 25
        }
      ]
    },
    {
      "cell_type": "code",
      "source": [
        "plt.figure(figsize=(20,5))\n",
        "ax = sns.barplot(x=\"DegreeType\", y=\"Users\",data=Users)\n",
        "ax.set_xticklabels(ax.get_xticklabels(), rotation=0, ha=\"right\")\n",
        "ax.set_title('Degree Wise Job seekers')\n",
        "plt.tight_layout()\n",
        "plt.show()"
      ],
      "metadata": {
        "colab": {
          "base_uri": "https://localhost:8080/",
          "height": 398
        },
        "id": "7kcMlYFgyxVA",
        "outputId": "4685c034-8b3e-47ad-c70b-8193f7e22f2f"
      },
      "execution_count": null,
      "outputs": [
        {
          "output_type": "display_data",
          "data": {
            "text/plain": [
              "<Figure size 2000x500 with 1 Axes>"
            ],
            "image/png": "[encoded data removed]"
          },
          "metadata": {}
        }
      ]
    },
    {
      "cell_type": "markdown",
      "metadata": {
        "id": "dJST4b889AfF"
      },
      "source": [
        "# **Further Process**"
      ]
    },
    {
      "cell_type": "code",
      "execution_count": null,
      "metadata": {
        "id": "1GmLYkQwDokd"
      },
      "outputs": [],
      "source": [
        "from bs4 import BeautifulSoup\n",
        "import re"
      ]
    },
    {
      "cell_type": "code",
      "execution_count": null,
      "metadata": {
        "id": "1WC9x0ksDr7d"
      },
      "outputs": [],
      "source": [
        "def remove_html_tags(text):\n",
        "    # Remove HTML tags\n",
        "    cleaned_text = re.sub('<.*?>', '', str(text))\n",
        "    # Remove newline characters and carriage return characters\n",
        "    cleaned_text = cleaned_text.replace('\\\\n', ' ').replace('\\\\r', '').replace('\\xa0', '')\n",
        "    return cleaned_text\n",
        "columns_to_clean = ['Title', 'Description', 'Requirements']\n",
        "for col in columns_to_clean:\n",
        "  jobs[col] = jobs[col].apply(remove_html_tags)"
      ]
    },
    {
      "cell_type": "markdown",
      "source": [
        "**Training & Testing split**"
      ],
      "metadata": {
        "id": "PwFyvAOrcOQE"
      }
    },
    {
      "cell_type": "code",
      "execution_count": null,
      "metadata": {
        "id": "uucgitTGxdsl"
      },
      "outputs": [],
      "source": [
        "jobs_train = jobs[:16000]"
      ]
    },
    {
      "cell_type": "code",
      "execution_count": null,
      "metadata": {
        "id": "Ephv7OMVZK9A"
      },
      "outputs": [],
      "source": [
        "jobs_test = jobs[16000:20000]"
      ]
    },
    {
      "cell_type": "code",
      "source": [
        "jobs_train.shape"
      ],
      "metadata": {
        "id": "SNQOzbBII56o",
        "colab": {
          "base_uri": "https://localhost:8080/"
        },
        "outputId": "71957b2d-23db-46f2-dc5a-4c2f24f86502"
      },
      "execution_count": null,
      "outputs": [
        {
          "output_type": "execute_result",
          "data": {
            "text/plain": [
              "(16000, 11)"
            ]
          },
          "metadata": {},
          "execution_count": 31
        }
      ]
    },
    {
      "cell_type": "code",
      "execution_count": null,
      "metadata": {
        "id": "keDvuutkCvJY",
        "colab": {
          "base_uri": "https://localhost:8080/"
        },
        "outputId": "e776d119-2ea5-475a-f8d6-3e8192134c10"
      },
      "outputs": [
        {
          "output_type": "execute_result",
          "data": {
            "text/plain": [
              "(4000, 11)"
            ]
          },
          "metadata": {},
          "execution_count": 32
        }
      ],
      "source": [
        "jobs_test.shape"
      ]
    },
    {
      "cell_type": "code",
      "execution_count": null,
      "metadata": {
        "id": "I2zsL1U-ewQO"
      },
      "outputs": [],
      "source": [
        "jobs_train = jobs_train.drop(['Zip5', 'StartDate', 'EndDate', 'WindowID', 'City', 'State',\t'Country', 'JobID'], axis=1)"
      ]
    },
    {
      "cell_type": "code",
      "execution_count": null,
      "metadata": {
        "id": "SOtU7DAkgUMI",
        "colab": {
          "base_uri": "https://localhost:8080/",
          "height": 363
        },
        "outputId": "db3e961d-fee7-4ab2-e4f9-e40b61d7485a"
      },
      "outputs": [
        {
          "output_type": "execute_result",
          "data": {
            "text/plain": [
              "                                    Title  \\\n",
              "0                Administrative Assistant   \n",
              "1                        Maintenance Tech   \n",
              "2                          Podium Speaker   \n",
              "3                     Sales Professionals   \n",
              "4                ADMINISTRATIVE ASSISTANT   \n",
              "5  MULTI-PURPOSE MEDICAL OFFICE ASSISTANT   \n",
              "6                         Admin Assistant   \n",
              "7                          Office Manager   \n",
              "8                   SENIOR OFFICE MANAGER   \n",
              "9                            Receptionist   \n",
              "\n",
              "                                         Description  \\\n",
              "0  Opportunity: Arbor Group is a full service ind...   \n",
              "1  Maintenance Tech - HVAC Certified. For lrg apt...   \n",
              "2  VACATION  VILLAGE RESORTS PODIUM SPEAKER Are y...   \n",
              "3  VACATION VILLAGE RESORTS Seeking Sales Profess...   \n",
              "4      ADMINISTRATIVE ASSISTANT   ——  For an exec...   \n",
              "5      MULTI-PURPOSE MEDICAL OFFICE ASSISTANT   —...   \n",
              "6  Administrative Assistant who is tolerance, har...   \n",
              "7  Office Manager - Fast paced office requiring s...   \n",
              "8      FLORIDA CANCER SPECIALISTS SEEKS          ...   \n",
              "9  Weekend Receptionist, PTA, OTR, CDM and DIETAR...   \n",
              "\n",
              "                                        Requirements  \n",
              "0  Required Skills/Education:     3 years work ex...  \n",
              "1  Please refer to the Job Description to view th...  \n",
              "2  Please refer to the Job Description to view th...  \n",
              "3  Please refer to the Job Description to view th...  \n",
              "4  Please refer to the Job Description to view th...  \n",
              "5  Please refer to the Job Description to view th...  \n",
              "6  Requirements    High School Diploma or equival...  \n",
              "7  Please refer to the Job Description to view th...  \n",
              "8  Please refer to the Job Description to view th...  \n",
              "9  Please refer to the Job Description to view th...  "
            ],
            "text/html": [
              "\n",
              "  <div id=\"df-7cc8e0a7-6117-4d2b-960d-76757ea1b9ee\" class=\"colab-df-container\">\n",
              "    <div>\n",
              "<style scoped>\n",
              "    .dataframe tbody tr th:only-of-type {\n",
              "        vertical-align: middle;\n",
              "    }\n",
              "\n",
              "    .dataframe tbody tr th {\n",
              "        vertical-align: top;\n",
              "    }\n",
              "\n",
              "    .dataframe thead th {\n",
              "        text-align: right;\n",
              "    }\n",
              "</style>\n",
              "<table border=\"1\" class=\"dataframe\">\n",
              "  <thead>\n",
              "    <tr style=\"text-align: right;\">\n",
              "      <th></th>\n",
              "      <th>Title</th>\n",
              "      <th>Description</th>\n",
              "      <th>Requirements</th>\n",
              "    </tr>\n",
              "  </thead>\n",
              "  <tbody>\n",
              "    <tr>\n",
              "      <th>0</th>\n",
              "      <td>Administrative Assistant</td>\n",
              "      <td>Opportunity: Arbor Group is a full service ind...</td>\n",
              "      <td>Required Skills/Education:     3 years work ex...</td>\n",
              "    </tr>\n",
              "    <tr>\n",
              "      <th>1</th>\n",
              "      <td>Maintenance Tech</td>\n",
              "      <td>Maintenance Tech - HVAC Certified. For lrg apt...</td>\n",
              "      <td>Please refer to the Job Description to view th...</td>\n",
              "    </tr>\n",
              "    <tr>\n",
              "      <th>2</th>\n",
              "      <td>Podium Speaker</td>\n",
              "      <td>VACATION  VILLAGE RESORTS PODIUM SPEAKER Are y...</td>\n",
              "      <td>Please refer to the Job Description to view th...</td>\n",
              "    </tr>\n",
              "    <tr>\n",
              "      <th>3</th>\n",
              "      <td>Sales Professionals</td>\n",
              "      <td>VACATION VILLAGE RESORTS Seeking Sales Profess...</td>\n",
              "      <td>Please refer to the Job Description to view th...</td>\n",
              "    </tr>\n",
              "    <tr>\n",
              "      <th>4</th>\n",
              "      <td>ADMINISTRATIVE ASSISTANT</td>\n",
              "      <td>ADMINISTRATIVE ASSISTANT   ——  For an exec...</td>\n",
              "      <td>Please refer to the Job Description to view th...</td>\n",
              "    </tr>\n",
              "    <tr>\n",
              "      <th>5</th>\n",
              "      <td>MULTI-PURPOSE MEDICAL OFFICE ASSISTANT</td>\n",
              "      <td>MULTI-PURPOSE MEDICAL OFFICE ASSISTANT   —...</td>\n",
              "      <td>Please refer to the Job Description to view th...</td>\n",
              "    </tr>\n",
              "    <tr>\n",
              "      <th>6</th>\n",
              "      <td>Admin Assistant</td>\n",
              "      <td>Administrative Assistant who is tolerance, har...</td>\n",
              "      <td>Requirements    High School Diploma or equival...</td>\n",
              "    </tr>\n",
              "    <tr>\n",
              "      <th>7</th>\n",
              "      <td>Office Manager</td>\n",
              "      <td>Office Manager - Fast paced office requiring s...</td>\n",
              "      <td>Please refer to the Job Description to view th...</td>\n",
              "    </tr>\n",
              "    <tr>\n",
              "      <th>8</th>\n",
              "      <td>SENIOR OFFICE MANAGER</td>\n",
              "      <td>FLORIDA CANCER SPECIALISTS SEEKS          ...</td>\n",
              "      <td>Please refer to the Job Description to view th...</td>\n",
              "    </tr>\n",
              "    <tr>\n",
              "      <th>9</th>\n",
              "      <td>Receptionist</td>\n",
              "      <td>Weekend Receptionist, PTA, OTR, CDM and DIETAR...</td>\n",
              "      <td>Please refer to the Job Description to view th...</td>\n",
              "    </tr>\n",
              "  </tbody>\n",
              "</table>\n",
              "</div>\n",
              "    <div class=\"colab-df-buttons\">\n",
              "\n",
              "  <div class=\"colab-df-container\">\n",
              "    <button class=\"colab-df-convert\" onclick=\"convertToInteractive('df-7cc8e0a7-6117-4d2b-960d-76757ea1b9ee')\"\n",
              "            title=\"Convert this dataframe to an interactive table.\"\n",
              "            style=\"display:none;\">\n",
              "\n",
              "  <svg xmlns=\"http://www.w3.org/2000/svg\" height=\"24px\" viewBox=\"0 -960 960 960\">\n",
              "    <path d=\"M120-120v-720h720v720H120Zm60-500h600v-160H180v160Zm220 220h160v-160H400v160Zm0 220h160v-160H400v160ZM180-400h160v-160H180v160Zm440 0h160v-160H620v160ZM180-180h160v-160H180v160Zm440 0h160v-160H620v160Z\"/>\n",
              "  </svg>\n",
              "    </button>\n",
              "\n",
              "  <style>\n",
              "    .colab-df-container {\n",
              "      display:flex;\n",
              "      gap: 12px;\n",
              "    }\n",
              "\n",
              "    .colab-df-convert {\n",
              "      background-color: #E8F0FE;\n",
              "      border: none;\n",
              "      border-radius: 50%;\n",
              "      cursor: pointer;\n",
              "      display: none;\n",
              "      fill: #1967D2;\n",
              "      height: 32px;\n",
              "      padding: 0 0 0 0;\n",
              "      width: 32px;\n",
              "    }\n",
              "\n",
              "    .colab-df-convert:hover {\n",
              "      background-color: #E2EBFA;\n",
              "      box-shadow: 0px 1px 2px rgba(60, 64, 67, 0.3), 0px 1px 3px 1px rgba(60, 64, 67, 0.15);\n",
              "      fill: #174EA6;\n",
              "    }\n",
              "\n",
              "    .colab-df-buttons div {\n",
              "      margin-bottom: 4px;\n",
              "    }\n",
              "\n",
              "    [theme=dark] .colab-df-convert {\n",
              "      background-color: #3B4455;\n",
              "      fill: #D2E3FC;\n",
              "    }\n",
              "\n",
              "    [theme=dark] .colab-df-convert:hover {\n",
              "      background-color: #434B5C;\n",
              "      box-shadow: 0px 1px 3px 1px rgba(0, 0, 0, 0.15);\n",
              "      filter: drop-shadow(0px 1px 2px rgba(0, 0, 0, 0.3));\n",
              "      fill: #FFFFFF;\n",
              "    }\n",
              "  </style>\n",
              "\n",
              "    <script>\n",
              "      const buttonEl =\n",
              "        document.querySelector('#df-7cc8e0a7-6117-4d2b-960d-76757ea1b9ee button.colab-df-convert');\n",
              "      buttonEl.style.display =\n",
              "        google.colab.kernel.accessAllowed ? 'block' : 'none';\n",
              "\n",
              "      async function convertToInteractive(key) {\n",
              "        const element = document.querySelector('#df-7cc8e0a7-6117-4d2b-960d-76757ea1b9ee');\n",
              "        const dataTable =\n",
              "          await google.colab.kernel.invokeFunction('convertToInteractive',\n",
              "                                                    [key], {});\n",
              "        if (!dataTable) return;\n",
              "\n",
              "        const docLinkHtml = 'Like what you see? Visit the ' +\n",
              "          '<a target=\"_blank\" href=https://colab.research.google.com/notebooks/data_table.ipynb>data table notebook</a>'\n",
              "          + ' to learn more about interactive tables.';\n",
              "        element.innerHTML = '';\n",
              "        dataTable['output_type'] = 'display_data';\n",
              "        await google.colab.output.renderOutput(dataTable, element);\n",
              "        const docLink = document.createElement('div');\n",
              "        docLink.innerHTML = docLinkHtml;\n",
              "        element.appendChild(docLink);\n",
              "      }\n",
              "    </script>\n",
              "  </div>\n",
              "\n",
              "\n",
              "<div id=\"df-3225fed1-ce29-452b-a3d4-e24634c94a90\">\n",
              "  <button class=\"colab-df-quickchart\" onclick=\"quickchart('df-3225fed1-ce29-452b-a3d4-e24634c94a90')\"\n",
              "            title=\"Suggest charts.\"\n",
              "            style=\"display:none;\">\n",
              "\n",
              "<svg xmlns=\"http://www.w3.org/2000/svg\" height=\"24px\"viewBox=\"0 0 24 24\"\n",
              "     width=\"24px\">\n",
              "    <g>\n",
              "        <path d=\"M19 3H5c-1.1 0-2 .9-2 2v14c0 1.1.9 2 2 2h14c1.1 0 2-.9 2-2V5c0-1.1-.9-2-2-2zM9 17H7v-7h2v7zm4 0h-2V7h2v10zm4 0h-2v-4h2v4z\"/>\n",
              "    </g>\n",
              "</svg>\n",
              "  </button>\n",
              "\n",
              "<style>\n",
              "  .colab-df-quickchart {\n",
              "    background-color: #E8F0FE;\n",
              "    border: none;\n",
              "    border-radius: 50%;\n",
              "    cursor: pointer;\n",
              "    display: none;\n",
              "    fill: #1967D2;\n",
              "    height: 32px;\n",
              "    padding: 0 0 0 0;\n",
              "    width: 32px;\n",
              "  }\n",
              "\n",
              "  .colab-df-quickchart:hover {\n",
              "    background-color: #E2EBFA;\n",
              "    box-shadow: 0px 1px 2px rgba(60, 64, 67, 0.3), 0px 1px 3px 1px rgba(60, 64, 67, 0.15);\n",
              "    fill: #174EA6;\n",
              "  }\n",
              "\n",
              "  [theme=dark] .colab-df-quickchart {\n",
              "    background-color: #3B4455;\n",
              "    fill: #D2E3FC;\n",
              "  }\n",
              "\n",
              "  [theme=dark] .colab-df-quickchart:hover {\n",
              "    background-color: #434B5C;\n",
              "    box-shadow: 0px 1px 3px 1px rgba(0, 0, 0, 0.15);\n",
              "    filter: drop-shadow(0px 1px 2px rgba(0, 0, 0, 0.3));\n",
              "    fill: #FFFFFF;\n",
              "  }\n",
              "</style>\n",
              "\n",
              "  <script>\n",
              "    async function quickchart(key) {\n",
              "      const charts = await google.colab.kernel.invokeFunction(\n",
              "          'suggestCharts', [key], {});\n",
              "    }\n",
              "    (() => {\n",
              "      let quickchartButtonEl =\n",
              "        document.querySelector('#df-3225fed1-ce29-452b-a3d4-e24634c94a90 button');\n",
              "      quickchartButtonEl.style.display =\n",
              "        google.colab.kernel.accessAllowed ? 'block' : 'none';\n",
              "    })();\n",
              "  </script>\n",
              "</div>\n",
              "    </div>\n",
              "  </div>\n"
            ]
          },
          "metadata": {},
          "execution_count": 34
        }
      ],
      "source": [
        "jobs_train.head(10)"
      ]
    },
    {
      "cell_type": "code",
      "execution_count": null,
      "metadata": {
        "id": "DZJjxEtfC8xa"
      },
      "outputs": [],
      "source": [
        "jobs_test = jobs_test.drop(['Zip5', 'StartDate', 'EndDate', 'WindowID', 'City', 'State',\t'Country', 'JobID'], axis=1)"
      ]
    },
    {
      "cell_type": "code",
      "execution_count": null,
      "metadata": {
        "id": "fVo59mbQC80w",
        "colab": {
          "base_uri": "https://localhost:8080/",
          "height": 363
        },
        "outputId": "878bd39b-4f7c-4705-e2b1-bf1cbb61f86d"
      },
      "outputs": [
        {
          "output_type": "execute_result",
          "data": {
            "text/plain": [
              "                                          Title  \\\n",
              "16000                Assistant Property Manager   \n",
              "16001                  Compounder I (3rd Shift)   \n",
              "16002           Accounts Receivable Coordinator   \n",
              "16003       US Womens Open Event Staff/Security   \n",
              "16004                          LINE HAUL DRIVER   \n",
              "16005                         Local City Driver   \n",
              "16006                             Dockworker PT   \n",
              "16007  Local City Driver - $1000 Sign On Bonus!   \n",
              "16008                             Dockworker PT   \n",
              "16009              Jr Level Litigation Attorney   \n",
              "\n",
              "                                             Description  \\\n",
              "16000  PURPOSE OF THE JOB&nbsp;Under the supervision ...   \n",
              "16001  Overview:Teva Parenteral Medicines is a global...   \n",
              "16002  DEFINITION:This position is responsible for th...   \n",
              "16003  Want to work the 2012&nbsp;Women's US Open Tou...   \n",
              "16004  Is your career taking you where you want to go...   \n",
              "16005  Is your career taking you where you want to go...   \n",
              "16006  Is your career taking you where you want to go...   \n",
              "16007  Is your career taking you where you want to go...   \n",
              "16008  Is your career taking you where you want to go...   \n",
              "16009  We currently have an opening for a litigation ...   \n",
              "\n",
              "                                            Requirements  \n",
              "16000  PRINCIPAL RESPONSIBILITIES -     The Assistant...  \n",
              "16001  * Experience Preferred: 1 -2 years previous ph...  \n",
              "16002  SPECIFIC KNOWLEDGE/SKILLS REQUIREMENTS:●Abilit...  \n",
              "16003  Visit www.andyfrain.com&nbsp;for more information  \n",
              "16004      Minimum 21 years of age     Maintains a Cl...  \n",
              "16005      Minimum 21 years of age     Maintains a Cl...  \n",
              "16006  Preferred Qualifications:    Freight handling ...  \n",
              "16007      Minimum 21 years of age     Maintains a Cl...  \n",
              "16008   Preferred Qualifications:    Freight handling...  \n",
              "16009  CA Bar Case managementDrafting Pleadings and d...  "
            ],
            "text/html": [
              "\n",
              "  <div id=\"df-2bcfd9d4-7a6c-4d3f-8718-048b14e4aa3a\" class=\"colab-df-container\">\n",
              "    <div>\n",
              "<style scoped>\n",
              "    .dataframe tbody tr th:only-of-type {\n",
              "        vertical-align: middle;\n",
              "    }\n",
              "\n",
              "    .dataframe tbody tr th {\n",
              "        vertical-align: top;\n",
              "    }\n",
              "\n",
              "    .dataframe thead th {\n",
              "        text-align: right;\n",
              "    }\n",
              "</style>\n",
              "<table border=\"1\" class=\"dataframe\">\n",
              "  <thead>\n",
              "    <tr style=\"text-align: right;\">\n",
              "      <th></th>\n",
              "      <th>Title</th>\n",
              "      <th>Description</th>\n",
              "      <th>Requirements</th>\n",
              "    </tr>\n",
              "  </thead>\n",
              "  <tbody>\n",
              "    <tr>\n",
              "      <th>16000</th>\n",
              "      <td>Assistant Property Manager</td>\n",
              "      <td>PURPOSE OF THE JOB&amp;nbsp;Under the supervision ...</td>\n",
              "      <td>PRINCIPAL RESPONSIBILITIES -     The Assistant...</td>\n",
              "    </tr>\n",
              "    <tr>\n",
              "      <th>16001</th>\n",
              "      <td>Compounder I (3rd Shift)</td>\n",
              "      <td>Overview:Teva Parenteral Medicines is a global...</td>\n",
              "      <td>* Experience Preferred: 1 -2 years previous ph...</td>\n",
              "    </tr>\n",
              "    <tr>\n",
              "      <th>16002</th>\n",
              "      <td>Accounts Receivable Coordinator</td>\n",
              "      <td>DEFINITION:This position is responsible for th...</td>\n",
              "      <td>SPECIFIC KNOWLEDGE/SKILLS REQUIREMENTS:●Abilit...</td>\n",
              "    </tr>\n",
              "    <tr>\n",
              "      <th>16003</th>\n",
              "      <td>US Womens Open Event Staff/Security</td>\n",
              "      <td>Want to work the 2012&amp;nbsp;Women's US Open Tou...</td>\n",
              "      <td>Visit www.andyfrain.com&amp;nbsp;for more information</td>\n",
              "    </tr>\n",
              "    <tr>\n",
              "      <th>16004</th>\n",
              "      <td>LINE HAUL DRIVER</td>\n",
              "      <td>Is your career taking you where you want to go...</td>\n",
              "      <td>Minimum 21 years of age     Maintains a Cl...</td>\n",
              "    </tr>\n",
              "    <tr>\n",
              "      <th>16005</th>\n",
              "      <td>Local City Driver</td>\n",
              "      <td>Is your career taking you where you want to go...</td>\n",
              "      <td>Minimum 21 years of age     Maintains a Cl...</td>\n",
              "    </tr>\n",
              "    <tr>\n",
              "      <th>16006</th>\n",
              "      <td>Dockworker PT</td>\n",
              "      <td>Is your career taking you where you want to go...</td>\n",
              "      <td>Preferred Qualifications:    Freight handling ...</td>\n",
              "    </tr>\n",
              "    <tr>\n",
              "      <th>16007</th>\n",
              "      <td>Local City Driver - $1000 Sign On Bonus!</td>\n",
              "      <td>Is your career taking you where you want to go...</td>\n",
              "      <td>Minimum 21 years of age     Maintains a Cl...</td>\n",
              "    </tr>\n",
              "    <tr>\n",
              "      <th>16008</th>\n",
              "      <td>Dockworker PT</td>\n",
              "      <td>Is your career taking you where you want to go...</td>\n",
              "      <td>Preferred Qualifications:    Freight handling...</td>\n",
              "    </tr>\n",
              "    <tr>\n",
              "      <th>16009</th>\n",
              "      <td>Jr Level Litigation Attorney</td>\n",
              "      <td>We currently have an opening for a litigation ...</td>\n",
              "      <td>CA Bar Case managementDrafting Pleadings and d...</td>\n",
              "    </tr>\n",
              "  </tbody>\n",
              "</table>\n",
              "</div>\n",
              "    <div class=\"colab-df-buttons\">\n",
              "\n",
              "  <div class=\"colab-df-container\">\n",
              "    <button class=\"colab-df-convert\" onclick=\"convertToInteractive('df-2bcfd9d4-7a6c-4d3f-8718-048b14e4aa3a')\"\n",
              "            title=\"Convert this dataframe to an interactive table.\"\n",
              "            style=\"display:none;\">\n",
              "\n",
              "  <svg xmlns=\"http://www.w3.org/2000/svg\" height=\"24px\" viewBox=\"0 -960 960 960\">\n",
              "    <path d=\"M120-120v-720h720v720H120Zm60-500h600v-160H180v160Zm220 220h160v-160H400v160Zm0 220h160v-160H400v160ZM180-400h160v-160H180v160Zm440 0h160v-160H620v160ZM180-180h160v-160H180v160Zm440 0h160v-160H620v160Z\"/>\n",
              "  </svg>\n",
              "    </button>\n",
              "\n",
              "  <style>\n",
              "    .colab-df-container {\n",
              "      display:flex;\n",
              "      gap: 12px;\n",
              "    }\n",
              "\n",
              "    .colab-df-convert {\n",
              "      background-color: #E8F0FE;\n",
              "      border: none;\n",
              "      border-radius: 50%;\n",
              "      cursor: pointer;\n",
              "      display: none;\n",
              "      fill: #1967D2;\n",
              "      height: 32px;\n",
              "      padding: 0 0 0 0;\n",
              "      width: 32px;\n",
              "    }\n",
              "\n",
              "    .colab-df-convert:hover {\n",
              "      background-color: #E2EBFA;\n",
              "      box-shadow: 0px 1px 2px rgba(60, 64, 67, 0.3), 0px 1px 3px 1px rgba(60, 64, 67, 0.15);\n",
              "      fill: #174EA6;\n",
              "    }\n",
              "\n",
              "    .colab-df-buttons div {\n",
              "      margin-bottom: 4px;\n",
              "    }\n",
              "\n",
              "    [theme=dark] .colab-df-convert {\n",
              "      background-color: #3B4455;\n",
              "      fill: #D2E3FC;\n",
              "    }\n",
              "\n",
              "    [theme=dark] .colab-df-convert:hover {\n",
              "      background-color: #434B5C;\n",
              "      box-shadow: 0px 1px 3px 1px rgba(0, 0, 0, 0.15);\n",
              "      filter: drop-shadow(0px 1px 2px rgba(0, 0, 0, 0.3));\n",
              "      fill: #FFFFFF;\n",
              "    }\n",
              "  </style>\n",
              "\n",
              "    <script>\n",
              "      const buttonEl =\n",
              "        document.querySelector('#df-2bcfd9d4-7a6c-4d3f-8718-048b14e4aa3a button.colab-df-convert');\n",
              "      buttonEl.style.display =\n",
              "        google.colab.kernel.accessAllowed ? 'block' : 'none';\n",
              "\n",
              "      async function convertToInteractive(key) {\n",
              "        const element = document.querySelector('#df-2bcfd9d4-7a6c-4d3f-8718-048b14e4aa3a');\n",
              "        const dataTable =\n",
              "          await google.colab.kernel.invokeFunction('convertToInteractive',\n",
              "                                                    [key], {});\n",
              "        if (!dataTable) return;\n",
              "\n",
              "        const docLinkHtml = 'Like what you see? Visit the ' +\n",
              "          '<a target=\"_blank\" href=https://colab.research.google.com/notebooks/data_table.ipynb>data table notebook</a>'\n",
              "          + ' to learn more about interactive tables.';\n",
              "        element.innerHTML = '';\n",
              "        dataTable['output_type'] = 'display_data';\n",
              "        await google.colab.output.renderOutput(dataTable, element);\n",
              "        const docLink = document.createElement('div');\n",
              "        docLink.innerHTML = docLinkHtml;\n",
              "        element.appendChild(docLink);\n",
              "      }\n",
              "    </script>\n",
              "  </div>\n",
              "\n",
              "\n",
              "<div id=\"df-cc38648c-1779-4ce8-a6ab-484371e09e69\">\n",
              "  <button class=\"colab-df-quickchart\" onclick=\"quickchart('df-cc38648c-1779-4ce8-a6ab-484371e09e69')\"\n",
              "            title=\"Suggest charts.\"\n",
              "            style=\"display:none;\">\n",
              "\n",
              "<svg xmlns=\"http://www.w3.org/2000/svg\" height=\"24px\"viewBox=\"0 0 24 24\"\n",
              "     width=\"24px\">\n",
              "    <g>\n",
              "        <path d=\"M19 3H5c-1.1 0-2 .9-2 2v14c0 1.1.9 2 2 2h14c1.1 0 2-.9 2-2V5c0-1.1-.9-2-2-2zM9 17H7v-7h2v7zm4 0h-2V7h2v10zm4 0h-2v-4h2v4z\"/>\n",
              "    </g>\n",
              "</svg>\n",
              "  </button>\n",
              "\n",
              "<style>\n",
              "  .colab-df-quickchart {\n",
              "    background-color: #E8F0FE;\n",
              "    border: none;\n",
              "    border-radius: 50%;\n",
              "    cursor: pointer;\n",
              "    display: none;\n",
              "    fill: #1967D2;\n",
              "    height: 32px;\n",
              "    padding: 0 0 0 0;\n",
              "    width: 32px;\n",
              "  }\n",
              "\n",
              "  .colab-df-quickchart:hover {\n",
              "    background-color: #E2EBFA;\n",
              "    box-shadow: 0px 1px 2px rgba(60, 64, 67, 0.3), 0px 1px 3px 1px rgba(60, 64, 67, 0.15);\n",
              "    fill: #174EA6;\n",
              "  }\n",
              "\n",
              "  [theme=dark] .colab-df-quickchart {\n",
              "    background-color: #3B4455;\n",
              "    fill: #D2E3FC;\n",
              "  }\n",
              "\n",
              "  [theme=dark] .colab-df-quickchart:hover {\n",
              "    background-color: #434B5C;\n",
              "    box-shadow: 0px 1px 3px 1px rgba(0, 0, 0, 0.15);\n",
              "    filter: drop-shadow(0px 1px 2px rgba(0, 0, 0, 0.3));\n",
              "    fill: #FFFFFF;\n",
              "  }\n",
              "</style>\n",
              "\n",
              "  <script>\n",
              "    async function quickchart(key) {\n",
              "      const charts = await google.colab.kernel.invokeFunction(\n",
              "          'suggestCharts', [key], {});\n",
              "    }\n",
              "    (() => {\n",
              "      let quickchartButtonEl =\n",
              "        document.querySelector('#df-cc38648c-1779-4ce8-a6ab-484371e09e69 button');\n",
              "      quickchartButtonEl.style.display =\n",
              "        google.colab.kernel.accessAllowed ? 'block' : 'none';\n",
              "    })();\n",
              "  </script>\n",
              "</div>\n",
              "    </div>\n",
              "  </div>\n"
            ]
          },
          "metadata": {},
          "execution_count": 36
        }
      ],
      "source": [
        "jobs_test.head(10)"
      ]
    },
    {
      "cell_type": "code",
      "execution_count": null,
      "metadata": {
        "id": "cQMvfUze4d7x",
        "colab": {
          "base_uri": "https://localhost:8080/"
        },
        "outputId": "96aa6ea6-bdeb-48d1-eb22-f9fc0c0f3885"
      },
      "outputs": [
        {
          "output_type": "stream",
          "name": "stdout",
          "text": [
            "0\n"
          ]
        }
      ],
      "source": [
        "print(jobs_train['Requirements'].isnull().sum())"
      ]
    },
    {
      "cell_type": "code",
      "execution_count": null,
      "metadata": {
        "id": "PzqriN3zhMGP",
        "colab": {
          "base_uri": "https://localhost:8080/",
          "height": 70
        },
        "outputId": "30cc4ef9-b77f-46d6-b0c1-059800fb219f"
      },
      "outputs": [
        {
          "output_type": "execute_result",
          "data": {
            "text/plain": [
              "'Required Skills/Education:     3 years work experience.    Proficient and knowledgeable with Microsoft Suite including Excel, Power Point, Word and Outlook.    A self starter who is detail oriented and organized.    Able to set priorities, define goals and manage multi tasked projects    Good written and verbal communications skills     Industry Experience a plus    Compensation based on experience '"
            ],
            "application/vnd.google.colaboratory.intrinsic+json": {
              "type": "string"
            }
          },
          "metadata": {},
          "execution_count": 38
        }
      ],
      "source": [
        "jobs_train['Requirements'][0]"
      ]
    },
    {
      "cell_type": "code",
      "execution_count": null,
      "metadata": {
        "id": "WKRdV9idk7fx",
        "colab": {
          "base_uri": "https://localhost:8080/"
        },
        "outputId": "152d807a-8d93-49bb-ef22-5de207fc272f"
      },
      "outputs": [
        {
          "output_type": "stream",
          "name": "stdout",
          "text": [
            "<class 'pandas.core.frame.DataFrame'>\n",
            "RangeIndex: 16000 entries, 0 to 15999\n",
            "Data columns (total 3 columns):\n",
            " #   Column        Non-Null Count  Dtype \n",
            "---  ------        --------------  ----- \n",
            " 0   Title         16000 non-null  object\n",
            " 1   Description   16000 non-null  object\n",
            " 2   Requirements  16000 non-null  object\n",
            "dtypes: object(3)\n",
            "memory usage: 375.1+ KB\n"
          ]
        }
      ],
      "source": [
        "jobs_train.info()"
      ]
    },
    {
      "cell_type": "code",
      "execution_count": null,
      "metadata": {
        "id": "PZbsD85KhkCb",
        "colab": {
          "base_uri": "https://localhost:8080/"
        },
        "outputId": "3b066999-195a-483c-ea44-069e343d335a"
      },
      "outputs": [
        {
          "output_type": "execute_result",
          "data": {
            "text/plain": [
              "Title           0\n",
              "Description     0\n",
              "Requirements    0\n",
              "dtype: int64"
            ]
          },
          "metadata": {},
          "execution_count": 40
        }
      ],
      "source": [
        "jobs_train.isnull().sum()\n",
        "jobs_train.fillna('',inplace=True)\n",
        "jobs_train.isnull().sum()"
      ]
    },
    {
      "cell_type": "code",
      "execution_count": null,
      "metadata": {
        "id": "4-WtiCEkg_qb",
        "colab": {
          "base_uri": "https://localhost:8080/"
        },
        "outputId": "36392c2d-cbdc-4214-b89b-48cdb40ca813"
      },
      "outputs": [
        {
          "output_type": "execute_result",
          "data": {
            "text/plain": [
              "(16000, 3)"
            ]
          },
          "metadata": {},
          "execution_count": 41
        }
      ],
      "source": [
        "jobs_train.shape"
      ]
    },
    {
      "cell_type": "markdown",
      "source": [
        "**The NLTK import - Stopword Cleaning & Stemming trasnform:**"
      ],
      "metadata": {
        "id": "iRZkxNoCcqoM"
      }
    },
    {
      "cell_type": "code",
      "execution_count": null,
      "metadata": {
        "id": "ud5Mz9mng_tM",
        "colab": {
          "base_uri": "https://localhost:8080/"
        },
        "outputId": "e7507bc3-3ef2-417c-98f2-bc7bc0931015"
      },
      "outputs": [
        {
          "output_type": "stream",
          "name": "stderr",
          "text": [
            "[nltk_data] Downloading package punkt to /root/nltk_data...\n",
            "[nltk_data]   Unzipping tokenizers/punkt.zip.\n",
            "[nltk_data] Downloading package stopwords to /root/nltk_data...\n",
            "[nltk_data]   Unzipping corpora/stopwords.zip.\n"
          ]
        }
      ],
      "source": [
        "from nltk.corpus import stopwords\n",
        "import nltk\n",
        "nltk.download('punkt')\n",
        "nltk.download('stopwords')\n",
        "import re\n",
        "from nltk.stem.porter import PorterStemmer\n",
        "ps = PorterStemmer()"
      ]
    },
    {
      "cell_type": "code",
      "execution_count": null,
      "metadata": {
        "id": "Dzmf8HCWlgAl"
      },
      "outputs": [],
      "source": [
        "def cleaning(txt):\n",
        "#     step 1\n",
        "    txt = re.sub(r'[^a-zA-Z0-9\\s]','',txt)\n",
        "#     step 2\n",
        "    tokens = nltk.word_tokenize(txt.lower())\n",
        "    # step 3 and 4\n",
        "    stemming = [ps.stem(w) for w in tokens if w not in stopwords.words('english')]\n",
        "    return \" \".join(stemming)\n"
      ]
    },
    {
      "cell_type": "code",
      "execution_count": null,
      "metadata": {
        "id": "AI-4yhIklgDW"
      },
      "outputs": [],
      "source": [
        "jobs_train['Description'] = jobs_train['Description'].astype(str).apply(lambda x: cleaning(x))\n",
        "jobs_train['Title'] = jobs_train['Title'].astype(str).apply(lambda x: cleaning(x))\n",
        "jobs_train['Requirements'] = jobs_train['Requirements'].astype(str).apply(lambda x: cleaning(x))"
      ]
    },
    {
      "cell_type": "code",
      "execution_count": null,
      "metadata": {
        "id": "xYodlWPqmTVF"
      },
      "outputs": [],
      "source": [
        "jobs_train['clean_text'] = jobs_train['Description']+\" \"+jobs_train['Title']+jobs_train['Requirements']"
      ]
    },
    {
      "cell_type": "markdown",
      "source": [
        "**Cosine Simmilarity:**"
      ],
      "metadata": {
        "id": "O3ooYJpwcgnV"
      }
    },
    {
      "cell_type": "code",
      "execution_count": null,
      "metadata": {
        "id": "5uR7g0vJlgLF"
      },
      "outputs": [],
      "source": [
        "tfidf = TfidfVectorizer(stop_words='english')\n"
      ]
    },
    {
      "cell_type": "code",
      "source": [
        "matrix = tfidf.fit_transform(jobs_train['clean_text'])\n",
        "similarity = cosine_similarity(matrix)"
      ],
      "metadata": {
        "id": "8z7sps5J3iGT"
      },
      "execution_count": null,
      "outputs": []
    },
    {
      "cell_type": "code",
      "execution_count": null,
      "metadata": {
        "id": "MfMwrvg9lgN0",
        "colab": {
          "base_uri": "https://localhost:8080/"
        },
        "outputId": "538b7c5b-80fa-4392-917a-8e424f935e63"
      },
      "outputs": [
        {
          "output_type": "execute_result",
          "data": {
            "text/plain": [
              "array([[1.        , 0.14264339, 0.01184918, ..., 0.05163839, 0.02648344,\n",
              "        0.02648344],\n",
              "       [0.14264339, 1.        , 0.08267005, ..., 0.06999982, 0.04402295,\n",
              "        0.04402295],\n",
              "       [0.01184918, 0.08267005, 1.        , ..., 0.00903718, 0.00381077,\n",
              "        0.00381077],\n",
              "       ...,\n",
              "       [0.05163839, 0.06999982, 0.00903718, ..., 1.        , 0.62754046,\n",
              "        0.62754046],\n",
              "       [0.02648344, 0.04402295, 0.00381077, ..., 0.62754046, 1.        ,\n",
              "        1.        ],\n",
              "       [0.02648344, 0.04402295, 0.00381077, ..., 0.62754046, 1.        ,\n",
              "        1.        ]])"
            ]
          },
          "metadata": {},
          "execution_count": 48
        }
      ],
      "source": [
        "similarity"
      ]
    },
    {
      "cell_type": "markdown",
      "metadata": {
        "id": "kCC8eMF_rrQY"
      },
      "source": [
        "## **Now the real time testing: CV/Resume input to get recommendation:**"
      ]
    },
    {
      "cell_type": "markdown",
      "source": [
        "*NOTE:* The Resume data contains **2,56,021** job applicant entries (data rows). From this dataset, we can randomly select a user's row and import recommended jobs based on their qualifications."
      ],
      "metadata": {
        "id": "ejiifNAsdTyd"
      }
    },
    {
      "cell_type": "code",
      "execution_count": null,
      "metadata": {
        "id": "jROvYWwOALXx",
        "colab": {
          "base_uri": "https://localhost:8080/",
          "height": 520
        },
        "outputId": "d19804d1-4709-4d69-fe37-dac7e1de4d8b"
      },
      "outputs": [
        {
          "output_type": "execute_result",
          "data": {
            "text/plain": [
              "    UserID   DegreeType                                            Major  \\\n",
              "0        7  High School                                   Not Applicable   \n",
              "1        9  High School                                   Not Applicable   \n",
              "2       13   Bachelor's                  Psychological & Social Sciences   \n",
              "3       14         None                                          General   \n",
              "4       16   Bachelor's                                         Security   \n",
              "5       17  High School                                   Not Applicable   \n",
              "6       23  High School                                   Not Applicable   \n",
              "7       24   Bachelor's                               Behavioral Science   \n",
              "8       26   Bachelor's                   Management Information Systems   \n",
              "9       44     Master's                        Human Resource Management   \n",
              "10      51  Associate's                                          General   \n",
              "11      64     Master's  Business Administration and Management, General   \n",
              "12      71   Bachelor's     Arts Corporate Communications and Psychology   \n",
              "13      72     Master's                                     Anthropology   \n",
              "14      78  High School                                   Not Applicable   \n",
              "\n",
              "    WorkHistoryCount  TotalYearsExperience CurrentlyEmployed ManagedOthers  \\\n",
              "0                  2                  13.0               Yes            No   \n",
              "1                  3                   3.0               Yes            No   \n",
              "2                  6                   5.0               Yes            No   \n",
              "3                  2                  10.0                No            No   \n",
              "4                  9                   9.0               Yes            No   \n",
              "5                  5                   7.0               Yes            No   \n",
              "6                  3                  10.0               Yes            No   \n",
              "7                  6                  12.0               Yes            No   \n",
              "8                  4                   2.0               Yes            No   \n",
              "9                  4                   3.0                No            No   \n",
              "10                 3                   5.0               Yes            No   \n",
              "11                 3                  22.0               Yes            No   \n",
              "12                 7                  24.0               Yes            No   \n",
              "13                10                   8.0               Yes            No   \n",
              "14                 5                  14.0               Yes            No   \n",
              "\n",
              "                                          Job History  \n",
              "0   [Front End Supervisor/Cashier, Customer Servic...  \n",
              "1                        [Cook, Mechanic, File Clerk]  \n",
              "2   [Pennsylvania Mentor, Student Worker, Internsh...  \n",
              "3   [Director of Sales/Office Manager, Operations ...  \n",
              "4   [Senior Messaging Engineer (Exchange Lead), Ex...  \n",
              "5   [Purchasing Administrative Assistant, Administ...  \n",
              "6                      [Manager, Assisting customers]  \n",
              "7   [Personal Assistant, Baker, coordinator, Bookk...  \n",
              "8   [Information Technology Manager, Consultant, S...  \n",
              "9   [Customer Service/Phone Banker, Assistant Teac...  \n",
              "10  [Sitter/ACP- Associate Care Provider I, ALP- A...  \n",
              "11  [Practice Manager, Medical Manager, Medical Ma...  \n",
              "12  [CEO/Owner/Player, Manager/Player, Actor, Inte...  \n",
              "13  [Lecturer, Department of Anthropology, Student...  \n",
              "14  [Compliance Administrator, Human Resource Rece...  "
            ],
            "text/html": [
              "\n",
              "  <div id=\"df-921ce532-03ba-4b9b-84d1-122842e5265e\" class=\"colab-df-container\">\n",
              "    <div>\n",
              "<style scoped>\n",
              "    .dataframe tbody tr th:only-of-type {\n",
              "        vertical-align: middle;\n",
              "    }\n",
              "\n",
              "    .dataframe tbody tr th {\n",
              "        vertical-align: top;\n",
              "    }\n",
              "\n",
              "    .dataframe thead th {\n",
              "        text-align: right;\n",
              "    }\n",
              "</style>\n",
              "<table border=\"1\" class=\"dataframe\">\n",
              "  <thead>\n",
              "    <tr style=\"text-align: right;\">\n",
              "      <th></th>\n",
              "      <th>UserID</th>\n",
              "      <th>DegreeType</th>\n",
              "      <th>Major</th>\n",
              "      <th>WorkHistoryCount</th>\n",
              "      <th>TotalYearsExperience</th>\n",
              "      <th>CurrentlyEmployed</th>\n",
              "      <th>ManagedOthers</th>\n",
              "      <th>Job History</th>\n",
              "    </tr>\n",
              "  </thead>\n",
              "  <tbody>\n",
              "    <tr>\n",
              "      <th>0</th>\n",
              "      <td>7</td>\n",
              "      <td>High School</td>\n",
              "      <td>Not Applicable</td>\n",
              "      <td>2</td>\n",
              "      <td>13.0</td>\n",
              "      <td>Yes</td>\n",
              "      <td>No</td>\n",
              "      <td>[Front End Supervisor/Cashier, Customer Servic...</td>\n",
              "    </tr>\n",
              "    <tr>\n",
              "      <th>1</th>\n",
              "      <td>9</td>\n",
              "      <td>High School</td>\n",
              "      <td>Not Applicable</td>\n",
              "      <td>3</td>\n",
              "      <td>3.0</td>\n",
              "      <td>Yes</td>\n",
              "      <td>No</td>\n",
              "      <td>[Cook, Mechanic, File Clerk]</td>\n",
              "    </tr>\n",
              "    <tr>\n",
              "      <th>2</th>\n",
              "      <td>13</td>\n",
              "      <td>Bachelor's</td>\n",
              "      <td>Psychological &amp; Social Sciences</td>\n",
              "      <td>6</td>\n",
              "      <td>5.0</td>\n",
              "      <td>Yes</td>\n",
              "      <td>No</td>\n",
              "      <td>[Pennsylvania Mentor, Student Worker, Internsh...</td>\n",
              "    </tr>\n",
              "    <tr>\n",
              "      <th>3</th>\n",
              "      <td>14</td>\n",
              "      <td>None</td>\n",
              "      <td>General</td>\n",
              "      <td>2</td>\n",
              "      <td>10.0</td>\n",
              "      <td>No</td>\n",
              "      <td>No</td>\n",
              "      <td>[Director of Sales/Office Manager, Operations ...</td>\n",
              "    </tr>\n",
              "    <tr>\n",
              "      <th>4</th>\n",
              "      <td>16</td>\n",
              "      <td>Bachelor's</td>\n",
              "      <td>Security</td>\n",
              "      <td>9</td>\n",
              "      <td>9.0</td>\n",
              "      <td>Yes</td>\n",
              "      <td>No</td>\n",
              "      <td>[Senior Messaging Engineer (Exchange Lead), Ex...</td>\n",
              "    </tr>\n",
              "    <tr>\n",
              "      <th>5</th>\n",
              "      <td>17</td>\n",
              "      <td>High School</td>\n",
              "      <td>Not Applicable</td>\n",
              "      <td>5</td>\n",
              "      <td>7.0</td>\n",
              "      <td>Yes</td>\n",
              "      <td>No</td>\n",
              "      <td>[Purchasing Administrative Assistant, Administ...</td>\n",
              "    </tr>\n",
              "    <tr>\n",
              "      <th>6</th>\n",
              "      <td>23</td>\n",
              "      <td>High School</td>\n",
              "      <td>Not Applicable</td>\n",
              "      <td>3</td>\n",
              "      <td>10.0</td>\n",
              "      <td>Yes</td>\n",
              "      <td>No</td>\n",
              "      <td>[Manager, Assisting customers]</td>\n",
              "    </tr>\n",
              "    <tr>\n",
              "      <th>7</th>\n",
              "      <td>24</td>\n",
              "      <td>Bachelor's</td>\n",
              "      <td>Behavioral Science</td>\n",
              "      <td>6</td>\n",
              "      <td>12.0</td>\n",
              "      <td>Yes</td>\n",
              "      <td>No</td>\n",
              "      <td>[Personal Assistant, Baker, coordinator, Bookk...</td>\n",
              "    </tr>\n",
              "    <tr>\n",
              "      <th>8</th>\n",
              "      <td>26</td>\n",
              "      <td>Bachelor's</td>\n",
              "      <td>Management Information Systems</td>\n",
              "      <td>4</td>\n",
              "      <td>2.0</td>\n",
              "      <td>Yes</td>\n",
              "      <td>No</td>\n",
              "      <td>[Information Technology Manager, Consultant, S...</td>\n",
              "    </tr>\n",
              "    <tr>\n",
              "      <th>9</th>\n",
              "      <td>44</td>\n",
              "      <td>Master's</td>\n",
              "      <td>Human Resource Management</td>\n",
              "      <td>4</td>\n",
              "      <td>3.0</td>\n",
              "      <td>No</td>\n",
              "      <td>No</td>\n",
              "      <td>[Customer Service/Phone Banker, Assistant Teac...</td>\n",
              "    </tr>\n",
              "    <tr>\n",
              "      <th>10</th>\n",
              "      <td>51</td>\n",
              "      <td>Associate's</td>\n",
              "      <td>General</td>\n",
              "      <td>3</td>\n",
              "      <td>5.0</td>\n",
              "      <td>Yes</td>\n",
              "      <td>No</td>\n",
              "      <td>[Sitter/ACP- Associate Care Provider I, ALP- A...</td>\n",
              "    </tr>\n",
              "    <tr>\n",
              "      <th>11</th>\n",
              "      <td>64</td>\n",
              "      <td>Master's</td>\n",
              "      <td>Business Administration and Management, General</td>\n",
              "      <td>3</td>\n",
              "      <td>22.0</td>\n",
              "      <td>Yes</td>\n",
              "      <td>No</td>\n",
              "      <td>[Practice Manager, Medical Manager, Medical Ma...</td>\n",
              "    </tr>\n",
              "    <tr>\n",
              "      <th>12</th>\n",
              "      <td>71</td>\n",
              "      <td>Bachelor's</td>\n",
              "      <td>Arts Corporate Communications and Psychology</td>\n",
              "      <td>7</td>\n",
              "      <td>24.0</td>\n",
              "      <td>Yes</td>\n",
              "      <td>No</td>\n",
              "      <td>[CEO/Owner/Player, Manager/Player, Actor, Inte...</td>\n",
              "    </tr>\n",
              "    <tr>\n",
              "      <th>13</th>\n",
              "      <td>72</td>\n",
              "      <td>Master's</td>\n",
              "      <td>Anthropology</td>\n",
              "      <td>10</td>\n",
              "      <td>8.0</td>\n",
              "      <td>Yes</td>\n",
              "      <td>No</td>\n",
              "      <td>[Lecturer, Department of Anthropology, Student...</td>\n",
              "    </tr>\n",
              "    <tr>\n",
              "      <th>14</th>\n",
              "      <td>78</td>\n",
              "      <td>High School</td>\n",
              "      <td>Not Applicable</td>\n",
              "      <td>5</td>\n",
              "      <td>14.0</td>\n",
              "      <td>Yes</td>\n",
              "      <td>No</td>\n",
              "      <td>[Compliance Administrator, Human Resource Rece...</td>\n",
              "    </tr>\n",
              "  </tbody>\n",
              "</table>\n",
              "</div>\n",
              "    <div class=\"colab-df-buttons\">\n",
              "\n",
              "  <div class=\"colab-df-container\">\n",
              "    <button class=\"colab-df-convert\" onclick=\"convertToInteractive('df-921ce532-03ba-4b9b-84d1-122842e5265e')\"\n",
              "            title=\"Convert this dataframe to an interactive table.\"\n",
              "            style=\"display:none;\">\n",
              "\n",
              "  <svg xmlns=\"http://www.w3.org/2000/svg\" height=\"24px\" viewBox=\"0 -960 960 960\">\n",
              "    <path d=\"M120-120v-720h720v720H120Zm60-500h600v-160H180v160Zm220 220h160v-160H400v160Zm0 220h160v-160H400v160ZM180-400h160v-160H180v160Zm440 0h160v-160H620v160ZM180-180h160v-160H180v160Zm440 0h160v-160H620v160Z\"/>\n",
              "  </svg>\n",
              "    </button>\n",
              "\n",
              "  <style>\n",
              "    .colab-df-container {\n",
              "      display:flex;\n",
              "      gap: 12px;\n",
              "    }\n",
              "\n",
              "    .colab-df-convert {\n",
              "      background-color: #E8F0FE;\n",
              "      border: none;\n",
              "      border-radius: 50%;\n",
              "      cursor: pointer;\n",
              "      display: none;\n",
              "      fill: #1967D2;\n",
              "      height: 32px;\n",
              "      padding: 0 0 0 0;\n",
              "      width: 32px;\n",
              "    }\n",
              "\n",
              "    .colab-df-convert:hover {\n",
              "      background-color: #E2EBFA;\n",
              "      box-shadow: 0px 1px 2px rgba(60, 64, 67, 0.3), 0px 1px 3px 1px rgba(60, 64, 67, 0.15);\n",
              "      fill: #174EA6;\n",
              "    }\n",
              "\n",
              "    .colab-df-buttons div {\n",
              "      margin-bottom: 4px;\n",
              "    }\n",
              "\n",
              "    [theme=dark] .colab-df-convert {\n",
              "      background-color: #3B4455;\n",
              "      fill: #D2E3FC;\n",
              "    }\n",
              "\n",
              "    [theme=dark] .colab-df-convert:hover {\n",
              "      background-color: #434B5C;\n",
              "      box-shadow: 0px 1px 3px 1px rgba(0, 0, 0, 0.15);\n",
              "      filter: drop-shadow(0px 1px 2px rgba(0, 0, 0, 0.3));\n",
              "      fill: #FFFFFF;\n",
              "    }\n",
              "  </style>\n",
              "\n",
              "    <script>\n",
              "      const buttonEl =\n",
              "        document.querySelector('#df-921ce532-03ba-4b9b-84d1-122842e5265e button.colab-df-convert');\n",
              "      buttonEl.style.display =\n",
              "        google.colab.kernel.accessAllowed ? 'block' : 'none';\n",
              "\n",
              "      async function convertToInteractive(key) {\n",
              "        const element = document.querySelector('#df-921ce532-03ba-4b9b-84d1-122842e5265e');\n",
              "        const dataTable =\n",
              "          await google.colab.kernel.invokeFunction('convertToInteractive',\n",
              "                                                    [key], {});\n",
              "        if (!dataTable) return;\n",
              "\n",
              "        const docLinkHtml = 'Like what you see? Visit the ' +\n",
              "          '<a target=\"_blank\" href=https://colab.research.google.com/notebooks/data_table.ipynb>data table notebook</a>'\n",
              "          + ' to learn more about interactive tables.';\n",
              "        element.innerHTML = '';\n",
              "        dataTable['output_type'] = 'display_data';\n",
              "        await google.colab.output.renderOutput(dataTable, element);\n",
              "        const docLink = document.createElement('div');\n",
              "        docLink.innerHTML = docLinkHtml;\n",
              "        element.appendChild(docLink);\n",
              "      }\n",
              "    </script>\n",
              "  </div>\n",
              "\n",
              "\n",
              "<div id=\"df-2c88cfbd-5439-4e0b-b3cc-41105bc1aae1\">\n",
              "  <button class=\"colab-df-quickchart\" onclick=\"quickchart('df-2c88cfbd-5439-4e0b-b3cc-41105bc1aae1')\"\n",
              "            title=\"Suggest charts.\"\n",
              "            style=\"display:none;\">\n",
              "\n",
              "<svg xmlns=\"http://www.w3.org/2000/svg\" height=\"24px\"viewBox=\"0 0 24 24\"\n",
              "     width=\"24px\">\n",
              "    <g>\n",
              "        <path d=\"M19 3H5c-1.1 0-2 .9-2 2v14c0 1.1.9 2 2 2h14c1.1 0 2-.9 2-2V5c0-1.1-.9-2-2-2zM9 17H7v-7h2v7zm4 0h-2V7h2v10zm4 0h-2v-4h2v4z\"/>\n",
              "    </g>\n",
              "</svg>\n",
              "  </button>\n",
              "\n",
              "<style>\n",
              "  .colab-df-quickchart {\n",
              "    background-color: #E8F0FE;\n",
              "    border: none;\n",
              "    border-radius: 50%;\n",
              "    cursor: pointer;\n",
              "    display: none;\n",
              "    fill: #1967D2;\n",
              "    height: 32px;\n",
              "    padding: 0 0 0 0;\n",
              "    width: 32px;\n",
              "  }\n",
              "\n",
              "  .colab-df-quickchart:hover {\n",
              "    background-color: #E2EBFA;\n",
              "    box-shadow: 0px 1px 2px rgba(60, 64, 67, 0.3), 0px 1px 3px 1px rgba(60, 64, 67, 0.15);\n",
              "    fill: #174EA6;\n",
              "  }\n",
              "\n",
              "  [theme=dark] .colab-df-quickchart {\n",
              "    background-color: #3B4455;\n",
              "    fill: #D2E3FC;\n",
              "  }\n",
              "\n",
              "  [theme=dark] .colab-df-quickchart:hover {\n",
              "    background-color: #434B5C;\n",
              "    box-shadow: 0px 1px 3px 1px rgba(0, 0, 0, 0.15);\n",
              "    filter: drop-shadow(0px 1px 2px rgba(0, 0, 0, 0.3));\n",
              "    fill: #FFFFFF;\n",
              "  }\n",
              "</style>\n",
              "\n",
              "  <script>\n",
              "    async function quickchart(key) {\n",
              "      const charts = await google.colab.kernel.invokeFunction(\n",
              "          'suggestCharts', [key], {});\n",
              "    }\n",
              "    (() => {\n",
              "      let quickchartButtonEl =\n",
              "        document.querySelector('#df-2c88cfbd-5439-4e0b-b3cc-41105bc1aae1 button');\n",
              "      quickchartButtonEl.style.display =\n",
              "        google.colab.kernel.accessAllowed ? 'block' : 'none';\n",
              "    })();\n",
              "  </script>\n",
              "</div>\n",
              "    </div>\n",
              "  </div>\n"
            ]
          },
          "metadata": {},
          "execution_count": 49
        }
      ],
      "source": [
        "Resume.head(15)"
      ]
    },
    {
      "cell_type": "code",
      "source": [
        "HEADER_COLOR = '\\033[38;5;202m'\n",
        "END_COLOR = '\\033[0m'\n",
        "\n",
        "row_data = Resume.iloc[24896].to_dict()\n",
        "\n",
        "for key, value in row_data.items():\n",
        "    print(f\"{HEADER_COLOR}{key}:{END_COLOR} {value}\")"
      ],
      "metadata": {
        "colab": {
          "base_uri": "https://localhost:8080/"
        },
        "id": "N0a56aLyF6Gq",
        "outputId": "ddd5323b-9452-40e9-d1f9-c63fbcef3030"
      },
      "execution_count": null,
      "outputs": [
        {
          "output_type": "stream",
          "name": "stdout",
          "text": [
            "\u001b[38;5;202mUserID:\u001b[0m 149326\n",
            "\u001b[38;5;202mDegreeType:\u001b[0m Master's\n",
            "\u001b[38;5;202mMajor:\u001b[0m Information Technology Project Management\n",
            "\u001b[38;5;202mWorkHistoryCount:\u001b[0m 27\n",
            "\u001b[38;5;202mTotalYearsExperience:\u001b[0m 16.0\n",
            "\u001b[38;5;202mCurrentlyEmployed:\u001b[0m Yes\n",
            "\u001b[38;5;202mManagedOthers:\u001b[0m Yes\n",
            "\u001b[38;5;202mJob History:\u001b[0m ['Principal Chief', 'Liaison, United Nations', 'Researcher, Published Author, Lecturer', 'Interim Council Member', 'Project Manager - Service Request Management System', 'Project Manager - Peregrine Service Portal', 'Project Manager - VisionIT Subcontract for Detroit Public Schools', 'Project Manager - Project Request Management ECM Pilot', 'Project Manager - Administrative Hearings Citrix Presentation', 'Project Manager - CHIPPS/FMPS Service Support Process Improvement', 'Project Manager - Children and Youth Services’ After School Matters', 'Project Manager - GroupWise Mobile Support Process', 'Project Manager - Incident Management SLA Notifications Improvement', 'Project Manager - Eli Lilly Enterprise Management Improvement', 'Project Manager - FMPS to LDAP Improvement', 'Project Manager - Blackberry / PDA / Cell Phone Request Services', 'Project Manager - Application - Image Certification Services', 'Project Manager - Chicago Public Schools TECH | XL', 'Implementation Manager - New York City Transit', 'Implementation Manager - Underwriter’s Laboratories', 'Business Relationship Manager - Transportation Security Administration', 'Business Relationship Manager - City of Chicago NDS Program', 'Team Lead - City of Chicago NDS Program', 'Service Support Rep - City of Chicago', 'Partner / Entrepreneur', 'Help Desk Service Coordinator', 'Supervisor']\n"
          ]
        }
      ]
    },
    {
      "cell_type": "code",
      "source": [
        "# Specify the row index\n",
        "row_index = 24896\n",
        "\n",
        "# Access the 'Job History' list for the specified row\n",
        "job_history = Resume.loc[row_index, 'Job History']\n",
        "\n",
        "# Print the 'Job History' data as a vertical list\n",
        "print(\"Job History:\")\n",
        "for job in job_history:\n",
        "    print(\"- \", job)\n"
      ],
      "metadata": {
        "colab": {
          "base_uri": "https://localhost:8080/"
        },
        "id": "06lfcG5cOoTO",
        "outputId": "8ff64ab9-acc6-4a6b-9d82-1eb2e94f46c4"
      },
      "execution_count": null,
      "outputs": [
        {
          "output_type": "stream",
          "name": "stdout",
          "text": [
            "Job History:\n",
            "-  Principal Chief\n",
            "-  Liaison, United Nations\n",
            "-  Researcher, Published Author, Lecturer\n",
            "-  Interim Council Member\n",
            "-  Project Manager - Service Request Management System\n",
            "-  Project Manager - Peregrine Service Portal\n",
            "-  Project Manager - VisionIT Subcontract for Detroit Public Schools\n",
            "-  Project Manager - Project Request Management ECM Pilot\n",
            "-  Project Manager - Administrative Hearings Citrix Presentation\n",
            "-  Project Manager - CHIPPS/FMPS Service Support Process Improvement\n",
            "-  Project Manager - Children and Youth Services’ After School Matters\n",
            "-  Project Manager - GroupWise Mobile Support Process\n",
            "-  Project Manager - Incident Management SLA Notifications Improvement\n",
            "-  Project Manager - Eli Lilly Enterprise Management Improvement\n",
            "-  Project Manager - FMPS to LDAP Improvement\n",
            "-  Project Manager - Blackberry / PDA / Cell Phone Request Services\n",
            "-  Project Manager - Application - Image Certification Services\n",
            "-  Project Manager - Chicago Public Schools TECH | XL\n",
            "-  Implementation Manager - New York City Transit\n",
            "-  Implementation Manager - Underwriter’s Laboratories\n",
            "-  Business Relationship Manager - Transportation Security Administration\n",
            "-  Business Relationship Manager - City of Chicago NDS Program\n",
            "-  Team Lead - City of Chicago NDS Program\n",
            "-  Service Support Rep - City of Chicago\n",
            "-  Partner / Entrepreneur\n",
            "-  Help Desk Service Coordinator\n",
            "-  Supervisor\n"
          ]
        }
      ]
    },
    {
      "cell_type": "code",
      "execution_count": null,
      "metadata": {
        "id": "m-2jAlDS9hwW"
      },
      "outputs": [],
      "source": [
        "desired_row = Resume.iloc[24896] #A random user data row that we want to get the recommendation"
      ]
    },
    {
      "cell_type": "code",
      "execution_count": null,
      "metadata": {
        "id": "ZQXBefX9DW-e"
      },
      "outputs": [],
      "source": [
        "input_sentence = f\"Has {desired_row['DegreeType']} Degree with the Major in {desired_row['Major']}, {desired_row['TotalYearsExperience']} Years of Experience in {desired_row['WorkHistoryCount']} Positions in {desired_row['Job History']}\""
      ]
    },
    {
      "cell_type": "code",
      "execution_count": null,
      "metadata": {
        "id": "5WNGu76Ox8l1"
      },
      "outputs": [],
      "source": [
        "#input_sentence = \"Degree Type Bachelor,    Major in University Studies/Business,   16 Years of Experience in National Space Communication Programs-Special, CurrentlyEmployed\""
      ]
    },
    {
      "cell_type": "code",
      "execution_count": null,
      "metadata": {
        "id": "TodK2srI_v_6",
        "colab": {
          "base_uri": "https://localhost:8080/",
          "height": 122
        },
        "outputId": "305401dd-8811-4f33-8f03-a749ad31edf7"
      },
      "outputs": [
        {
          "output_type": "execute_result",
          "data": {
            "text/plain": [
              "\"Has Master's Degree with the Major in Information Technology Project Management, 16.0 Years of Experience in 27 Positions in ['Principal Chief', 'Liaison, United Nations', 'Researcher, Published Author, Lecturer', 'Interim Council Member', 'Project Manager - Service Request Management System', 'Project Manager - Peregrine Service Portal', 'Project Manager - VisionIT Subcontract for Detroit Public Schools', 'Project Manager - Project Request Management ECM Pilot', 'Project Manager - Administrative Hearings Citrix Presentation', 'Project Manager - CHIPPS/FMPS Service Support Process Improvement', 'Project Manager - Children and Youth Services’ After School Matters', 'Project Manager - GroupWise Mobile Support Process', 'Project Manager - Incident Management SLA Notifications Improvement', 'Project Manager - Eli Lilly Enterprise Management Improvement', 'Project Manager - FMPS to LDAP Improvement', 'Project Manager - Blackberry / PDA / Cell Phone Request Services', 'Project Manager - Application - Image Certification Services', 'Project Manager - Chicago Public Schools TECH | XL', 'Implementation Manager - New York City Transit', 'Implementation Manager - Underwriter’s Laboratories', 'Business Relationship Manager - Transportation Security Administration', 'Business Relationship Manager - City of Chicago NDS Program', 'Team Lead - City of Chicago NDS Program', 'Service Support Rep - City of Chicago', 'Partner / Entrepreneur', 'Help Desk Service Coordinator', 'Supervisor']\""
            ],
            "application/vnd.google.colaboratory.intrinsic+json": {
              "type": "string"
            }
          },
          "metadata": {},
          "execution_count": 89
        }
      ],
      "source": [
        "input_sentence"
      ]
    },
    {
      "cell_type": "code",
      "execution_count": null,
      "metadata": {
        "id": "WsN0ps41TI9n"
      },
      "outputs": [],
      "source": [
        "input_sentence = remove_html_tags(input_sentence)"
      ]
    },
    {
      "cell_type": "code",
      "execution_count": null,
      "metadata": {
        "id": "DjfF524hS0m2"
      },
      "outputs": [],
      "source": [
        "input_sentence = cleaning(input_sentence)"
      ]
    },
    {
      "cell_type": "code",
      "execution_count": null,
      "metadata": {
        "id": "CS5EVQ8lyBKd"
      },
      "outputs": [],
      "source": [
        "passages = jobs['Title']"
      ]
    },
    {
      "cell_type": "code",
      "execution_count": null,
      "metadata": {
        "id": "GPJ3n7ocA_vR",
        "colab": {
          "base_uri": "https://localhost:8080/",
          "height": 1000
        },
        "outputId": "73a5c42e-1ac2-478e-e118-5ec5498db164"
      },
      "outputs": [
        {
          "output_type": "stream",
          "name": "stdout",
          "text": [
            "16000\n"
          ]
        },
        {
          "output_type": "display_data",
          "data": {
            "text/plain": [
              "<IPython.core.display.Markdown object>"
            ],
            "text/markdown": "**1. Job Title:** <font color='orange'>IT Senior Project Manager (Multiple Locations)</font><br><hr>**Description:**<br><ul><li> Summary:  Responsible for managing IT project teams including end user and third party provider activities pertaining to the design, development, testing, documentation, and implementation of application product and services.  Roles and Responsibilities:  Under general supervision, develop and implement assigned projects, from original concept through final implementation, and be the single point of contact. Manage financial, scope, and critical path for assigned projects. Manages the financial, time and resource aspects of project against a set budget and project plan. Coordinate, status reports, and stability of the project work effort; assemble project plans and teamwork assignments. Manage and monitor work efforts daily and identifies resource needs; perform quality review; escalate functional, quality, and timeline issues, as appropriate. Track key project milestones and adjust project plans and/or key resources to meet customer needs and requirements. Coordinate communication with all enterprise areas that impact the scope, budget, risk, and resources of the project. Performs as an internal consultant, advocate, mentor, and change agent. Assist Program Manager(s) in partnering with senior management in the business community to identify and prioritize opportunities that utilize IT to achieve enterprise goals. Possess high-level knowledge and proficiency in project management methodologies and tools, resource management practices, and change management techniques. Create project plans, schedules, and manage project teams. Utilizes and implements project management processes and methodologies for the IT community to ensure projects are delivered on time, within budget, adhere to high quality standards and meet customer expectations. Oversees larger and more highly complex projects. Provides informal guidance and support to more junior team members Serves as liaison between team members and functional area management requesting project. Performs other duties as assigned. </li></ul><br>**2. Job Title:** <font color='orange'>Senior Project Manager - IS & T</font><br><hr>**Description:**<br><ul><li>THIS POSITION IS LOCATED AT OUR GILLETTE, WYOMING OFFICE. GREAT BENEFITS AND COMPETITIVE SALARY FOR QUALIFIED CANDIDATES.Senior Project Manager – IS&TROLE DESCRIPTION: The role of the Senior Project Manager is to manage cross-functional teams responsible for delivering defined project outputs on time, within budget, and with quality results. This will require the Project Manager to follow established Cloud Peak Energy (CPE) project management methodologies to plan, organize, monitor and oversee one or more projects to meet defined business requirements. The Project Manager will have the primary responsibility for defining, planning, tracking, and managing enterprise projects, and providing direction they require in order to successfully accomplish project objectives. The Project Manager will also ensure appropriate management, customer, and supplier involvement throughout the life of the project. </li></ul><br>**3. Job Title:** <font color='orange'>Operational Project Manager - Telecommute</font><br><hr>**Description:**<br><ul><li>You're empowered to do your best by assisting with Operational Projects throughout the organization! Are you a subject matter expert in project management, scope definition, risk identification, methodology and resource allocation or facilitation? Assist us with strategic initiatives crossing business teams and operating groups as a Project Manager to coordinate and complete projects, define performance and results and manage vendors and service providers. You'll investigate non-standard requests and problems, makes presentations to senior leadership, ensure project documentation is accurate and ensure projects are completed on time and within scope. Pertinent data and facts will be reviewed to identify and solve issues and mitigate risks, prioritize your work load and work on ad hoc projects as assigned.Responsible for the coordination and completion of projects across various functional areas. Typically incumbents matched to this function are working towards or have achieved certification in project management. Provides subject matter expertise in areas including project management, project scope definition, risk identification, project methodology, resource allocation, facilitation, and other areas of expertise based on professional knowledge and background. Makes presentations to management on project updates, project cycle, and expected results. Ensures projects are completed on time and in scope.Major Responsibilities    Function as Project Manager on diverse and demanding Projects for the PEPMO.     Manages generally complex projects with financial impact normally up to $3 million     Work with Region Growth Manager in Product Portfolio Development to drive profitable membership growth.     Project Manager for the Implementation process for Product Grids which are the basis of state wide Product Portfolios.     Manages and coordinates the Change Control and Fast Track process for Plan/Portfolio implementations.     Ensure accuracy and completeness of Portfolios prior to National Capacity Planning Meetings which include; QA Checks, Compliance, Rates/actuary, Prime Code Assignments.     Post Lock Down work with Marketing to complete Marketing Grids, Benchmark Solutions, Multi-Choice etc. Working with Sales VP's to insure accuracy.     Participate in State Mandate meeting to insure understanding and application of State Mandates in product Portfolios.     Primary point of contact for Health Plan on Benefit and Plan design questions.     Manages and provides leadership on moderately complex projects within Business unit.     Develops and Implements complex changes/enhancements to policies/procedures/reporting that impact Business metrics.            Project management skills:    Development of Overall Project Plans with key milestones & deliverables.     Monitor & evaluate project progress and results to determine improvements in procedures needed to meet target implementation dates.     Prioritization and leadership of mid size project implementations that impact United's market presence.     Knowledge of United's Product Implementation Process including System capabilities, regulatory and compliance issues in Product Portfolio development.     Communications both oral and written within United focusing on field staff for Project status and implementation.     Ability to work with all levels of the organization including External Growth managers and Sales VP's.     Influences/negotiates priorities with business and staff partners based on established relationships This role is responsible for the coordination and completion of projects across various functional areas. Typically, employees in this function are working towards or have achieved certification in project management. The Project Manager provides subject matter expertise in areas including project scope definition, risk identification, project methodology, resource allocation, facilitation, and other areas of expertise based on established project management techniques. Makes presentations to management on project updates, project cycle, and expected results. Ensures projects are completed on time and in scope. May also manage vendor and service providers to define project scope and performance expectations. Incumbents maybe part of a project management office (PMO) in their business.    Analyzes and investigates.     Provides explanations and interpretations within area of expertise. </li></ul><br>**4. Job Title:** <font color='orange'>Applications Project Manager</font><br><hr>**Description:**<br><ul><li>Job Classification:  Contract   A client of TEKsystems, a Fortune 500 company, is looking for an Applications Project Manager for a contract opportunity in Miami, FL.  The Project Manager will provide project planning and project management support to facilitate delivery of projects efficiently and effectively to meet business expectations with regard to time, cost and quality for assigned projects.   Duties and Responsibilities - Providing project management leadership to projects and programs  - Delivering “best practice” Project Management support to cross-functional projects and project teams, utilizing the procedures, methodologies and tools - Providing regular communication of project status, issues and risks to key stakeholders - Analyzing project plans and schedules for discrepancies, delays, risks, etc. and for making recommendations on improvement opportunities. - Assisting business leaders in defining and documenting project management plans and charters  - Monitoring the program/project progress and controlling changes as are needed - Resolving conflict between participants in projects as needed - Facilitating business leaders in the definition and prioritization of projects and programs - Working with functional managers to prioritize resources and, insure project success - Mentoring project team members to develop their capabilities and skill sets \\t\\t\\t\\t\\t\\t \\t\\t\\t\\t\\t\\tJoin TEKsystems® and get your career on the fast track. As the leading technology staffing and services firm, we are passionate about deploying high-caliber IT and communications expertise. To satisfy our constant need for expertise, we actively seek talented Technical Professionals with all levels of information technology and communications skills. TEKsystems knows that every professional has different needs, so we'll work together to determine a suitable benefits package. We offer options to our Technical Professionals that could include: a health plan, 401k, provisions for vacation and holiday pay, and technical and professional training. With a foundation as the nation's largest IT staffing firm, we've become a billion-dollar services company by blending superior client service with an unrivaled ability to source and manage talent to precise specifications, resulting in successful technology executions. Allegis Group and its subsidiaries are equal opportunity employers. M/F/D/V</li></ul><br>**5. Job Title:** <font color='orange'>Project Manager</font><br><hr>**Description:**<br><ul><li>Vaco Tampa, LLC is seeking candidates for the position of Project Manager for a client in Tampa, FL. This is a direct hire position.   • Project Analysis and Management   - Provide Project Management services, lead project teams in defining, planning, and implementing new projects.   - Determine needed resources for project completion and communicate needs to appropriate departmental managers.   - Direct a small group of engineers /analysts in terms of systems flow, project definition, and utilization of hardware and software.   - Manage the development, execution, and reporting of project plans and schedules.   - Develop program Work Breakdown Structure (WBS), establish organization-wide project management strategies, and conduct project management assessments.  - Update and manage project plans, meet with project team and customer representatives as needed to communicate status.   - Identify risks, provide analysis and contingency planning.   - Complete weekly status reporting and budget status.  - Provide Technical Vendor Management and oversee vendor activities.   - Possess a thorough understanding of the project contract and totals needed for monthly revenue reporting.    * Project Guidelines & Communication   - Establish clear and measurable project operating guidelines with BD Director and Sponsor representative(s).   - Define timelines, milestones and limitations for project staff.  - Establish project report schedules with BD Director and Sponsor representative(s); provide project updates to BD Director, Sponsor representative(s) on schedule.   - Communicate timely, appropriate project information to project team, sites and company/sponsor representative(s).    * Project Team Leadership  - Lead by example with professional and collaborative conduct.   - Develop and deliver team project training.   - Establish team performance expectations and guidelines.   - Provide input to departmental managers of respective team members' performance level.   - Analyze team performance for consistency/quality within established project guidelines.    * Account Management  - Develop deep client relationships at all management levels, build client confidence and close deals.   - Drive large deals through teamwork with Regional Sales Manager.   - Understand specific customer issues and define & develop the appropriate response.   - Manage client relationship through delivery and post-install period. Focus on customer satisfaction, service delivery quality, revenue growth and financial profitability.    * Consulting  - Must have expert-level knowledge and understanding of technologies, industry -specific business processes, selling methodologies and delivery process to develop and implement solutions addressing complex business issues of customers.   - Utilize consultative skills to identify customer pain points as well as develop and manage complex statements of work.      Experience and Education  * Bachelor’s degree in Business Administration, Industrial Engineering, or related field and/or five years Project Management equivalent work experience  * Minimum of 3 years of directly relevant practical experience in the implementation of Imaging or Document Management solutions  * Minimum of three years IT industry experience  * Proficient in MS Office, Visio and various relational database applications    Requisite Skill Set  * Strong organization, planning, coaching and conflict management skills  * Strong communication [including written and presentations], active listening and negotiations skills  * Strong analytic & problem solving skills to solve complex problems  * Team player, open-minded and flexible  * P&L mastery that drives project profitability  * Strong partnership with Sales and Delivery organizations  * Ability to raise issues with others in a way that maintains trust and credibility  * Understanding of the transportation business and application of Imaging and document management in particular  *Good knowledge of project methodology  *Ability to travel for extended periods   *Ability to travel 50-75% of working time   Customer Service and Revenue is everyone’s job.   Must Haves:  1) PMP - Imaging and document management experience  2) willingness to travel 50 - 75 % of the time  3) 5 + years of PM experience  4) managing multiple projects simultaneously</li></ul><br>"
          },
          "metadata": {}
        }
      ],
      "source": [
        "# Your job descriptions data (replace with your actual job descriptions)\n",
        "job_descriptions = jobs['Description']\n",
        "\n",
        "# Transform the input sentence using the fitted vectorizer\n",
        "input_vector = tfidf.transform([input_sentence])\n",
        "\n",
        "# Format the output with Markdown for better visualization\n",
        "output_markdown = \"\"\n",
        "\n",
        "# Calculate the cosine similarity between the input sentence and passages\n",
        "similarity_scores = cosine_similarity(input_vector, matrix)\n",
        "\n",
        "print(len(similarity_scores[0]))\n",
        "# Get the indices of the top 5 most similar passages\n",
        "top_k = 5\n",
        "top_indices = similarity_scores.argsort()[0][-top_k:][::-1]\n",
        "\n",
        "# Counter variable for numbering the recommendations\n",
        "counter = 1\n",
        "\n",
        "for idx in top_indices:\n",
        "    output_markdown += f\"**{counter}. Job Title:** <font color='orange'>{passages[idx]}</font><br>\"\n",
        "\n",
        "    #output_markdown += f\"**Similarity Score:** {similarity_scores[0, idx]}<br>\"\n",
        "\n",
        "    output_markdown += \"<hr>\"\n",
        "    output_markdown += f\"**Description:**<br><ul>\"\n",
        "    description = job_descriptions[idx]\n",
        "    description_lines = description.split('\\n')[:4]  # Limit to the first 4 lines\n",
        "    for line in description_lines:\n",
        "        output_markdown += f\"<li>{line}</li>\"\n",
        "    output_markdown += \"</ul><br>\"\n",
        "\n",
        "    # Increment the counter for the next recommendation\n",
        "    counter += 1\n",
        "\n",
        "# ... The rest of your code ...\n",
        "\n",
        "# Display the formatted output using Markdown\n",
        "display(Markdown(output_markdown))"
      ]
    },
    {
      "cell_type": "markdown",
      "source": [
        "# **Top Recommended Rank for 20,000 Resume Data**"
      ],
      "metadata": {
        "id": "3JGCet-kRayW"
      }
    },
    {
      "cell_type": "code",
      "source": [
        "# Define the threshold\n",
        "threshold = 0.50\n",
        "\n",
        "# List to store recommendations\n",
        "top_recommendations = []\n",
        "\n",
        "# Iterate through the similarity_scores_list for the first 2000 rows\n",
        "for resume_idx, scores in enumerate(similarity_scores_list[:2000]):\n",
        "    max_score_idx = max(range(len(scores)), key=lambda i: scores[i])\n",
        "    max_score = scores[max_score_idx]\n",
        "\n",
        "    if max_score >= threshold:\n",
        "        top_recommendations.append((resume_idx, max_score_idx, max_score))\n",
        "\n",
        "# Sort the top recommendations based on the highest similarity score\n",
        "sorted_recommendations = sorted(top_recommendations, key=lambda x: x[2], reverse=True)\n",
        "\n",
        "# Print the sorted top recommendations\n",
        "for rank, (resume_idx, job_idx, score) in enumerate(sorted_recommendations):\n",
        "    job_title = passages[job_idx]\n",
        "    print(\n",
        "        f\"Rank {rank + 1} - Resume Index: {resume_idx}, Job Title: {job_title}, Similarity Score: {score}\"\n",
        "    )\n"
      ],
      "metadata": {
        "colab": {
          "base_uri": "https://localhost:8080/"
        },
        "id": "f9ZypulwQhHH",
        "outputId": "08f9d109-6d14-499a-bf46-0b5c75d6c223"
      },
      "execution_count": null,
      "outputs": [
        {
          "output_type": "stream",
          "name": "stdout",
          "text": [
            "Rank 1 - Resume Index: 976, Job Title: Administrative Assistant, Similarity Score: 0.8071320563838325\n",
            "Rank 2 - Resume Index: 1115, Job Title: Administrative Assistant, Similarity Score: 0.7567698150983809\n",
            "Rank 3 - Resume Index: 638, Job Title: Administrative Assistant, Similarity Score: 0.6927324446268452\n",
            "Rank 4 - Resume Index: 1006, Job Title: Administrative Assistant, Similarity Score: 0.6888645359175295\n",
            "Rank 5 - Resume Index: 506, Job Title: Administrative Assistant, Similarity Score: 0.688514469973296\n",
            "Rank 6 - Resume Index: 473, Job Title: Administrative Assistant, Similarity Score: 0.6806198011841498\n",
            "Rank 7 - Resume Index: 974, Job Title: Administrative Assistant, Similarity Score: 0.6649131490545543\n",
            "Rank 8 - Resume Index: 525, Job Title: Administrative Assistant, Similarity Score: 0.6619783653079732\n",
            "Rank 9 - Resume Index: 310, Job Title: Administrative Assistant, Similarity Score: 0.6591442667192753\n",
            "Rank 10 - Resume Index: 867, Job Title: Administrative Assistant, Similarity Score: 0.6589495341016302\n",
            "Rank 11 - Resume Index: 67, Job Title: Administrative Assistant, Similarity Score: 0.6563985684383047\n",
            "Rank 12 - Resume Index: 499, Job Title: Administrative Assistant, Similarity Score: 0.6478876111599826\n",
            "Rank 13 - Resume Index: 1425, Job Title: Administrative Assistant, Similarity Score: 0.6478566285391416\n",
            "Rank 14 - Resume Index: 160, Job Title: Administrative Assistant, Similarity Score: 0.6436642898955951\n",
            "Rank 15 - Resume Index: 1583, Job Title: Administrative Assistant, Similarity Score: 0.6358828235656078\n",
            "Rank 16 - Resume Index: 782, Job Title: Administrative Assistant, Similarity Score: 0.6350719570691238\n",
            "Rank 17 - Resume Index: 1143, Job Title: Administrative Assistant, Similarity Score: 0.6315287747198689\n",
            "Rank 18 - Resume Index: 1111, Job Title: Administrative Assistant, Similarity Score: 0.6263443597153988\n",
            "Rank 19 - Resume Index: 956, Job Title: Administrative Assistant, Similarity Score: 0.626200567767693\n",
            "Rank 20 - Resume Index: 1063, Job Title: Administrative Assistant, Similarity Score: 0.6218264314233819\n",
            "Rank 21 - Resume Index: 1598, Job Title: Administrative Assistant, Similarity Score: 0.6148357923064797\n",
            "Rank 22 - Resume Index: 1396, Job Title: Administrative Assistant, Similarity Score: 0.6142652077691217\n",
            "Rank 23 - Resume Index: 1568, Job Title: Administrative Assistant, Similarity Score: 0.6141536807322662\n",
            "Rank 24 - Resume Index: 181, Job Title: Administrative Assistant, Similarity Score: 0.6112241330880144\n",
            "Rank 25 - Resume Index: 812, Job Title: Administrative Assistant, Similarity Score: 0.6075895449608681\n",
            "Rank 26 - Resume Index: 1353, Job Title: Administrative Assistant, Similarity Score: 0.5970791860352582\n",
            "Rank 27 - Resume Index: 1476, Job Title: Administrative Assistant, Similarity Score: 0.5969399874397312\n",
            "Rank 28 - Resume Index: 1492, Job Title: Administrative Assistant, Similarity Score: 0.5961626462946692\n",
            "Rank 29 - Resume Index: 1799, Job Title: Administrative Assistant, Similarity Score: 0.5947812591445911\n",
            "Rank 30 - Resume Index: 918, Job Title: Administrative Assistant, Similarity Score: 0.5926494040242499\n",
            "Rank 31 - Resume Index: 235, Job Title: Administrative Assistant, Similarity Score: 0.5920845300705879\n",
            "Rank 32 - Resume Index: 185, Job Title: Administrative Assistant, Similarity Score: 0.5909263347872344\n",
            "Rank 33 - Resume Index: 1878, Job Title: Administrative Assistant, Similarity Score: 0.5881446947658354\n",
            "Rank 34 - Resume Index: 1298, Job Title: Administrative Assistant, Similarity Score: 0.5856063423678625\n",
            "Rank 35 - Resume Index: 327, Job Title: Administrative Assistant, Similarity Score: 0.5842013954309899\n",
            "Rank 36 - Resume Index: 1141, Job Title: Administrative Assistant, Similarity Score: 0.5815890775974277\n",
            "Rank 37 - Resume Index: 699, Job Title: Administrative Assistant, Similarity Score: 0.5786121000596766\n",
            "Rank 38 - Resume Index: 36, Job Title: Administrative Assistant, Similarity Score: 0.5773983822529632\n",
            "Rank 39 - Resume Index: 311, Job Title: Administrative Assistant, Similarity Score: 0.5750959588414838\n",
            "Rank 40 - Resume Index: 472, Job Title: Administrative Assistant, Similarity Score: 0.5705162105002389\n",
            "Rank 41 - Resume Index: 822, Job Title: Administrative Assistant, Similarity Score: 0.5666344973349272\n",
            "Rank 42 - Resume Index: 439, Job Title: Administrative Assistant, Similarity Score: 0.5643006206896004\n",
            "Rank 43 - Resume Index: 433, Job Title: Administrative Assistant, Similarity Score: 0.5615430249608109\n",
            "Rank 44 - Resume Index: 576, Job Title: Administrative Assistant, Similarity Score: 0.5604556947597602\n",
            "Rank 45 - Resume Index: 1051, Job Title: Administrative Assistant, Similarity Score: 0.5603826476766436\n",
            "Rank 46 - Resume Index: 988, Job Title: Administrative Assistant, Similarity Score: 0.5600828285037354\n",
            "Rank 47 - Resume Index: 49, Job Title: Administrative Assistant, Similarity Score: 0.5590057337446851\n",
            "Rank 48 - Resume Index: 1121, Job Title: Administrative Assistant, Similarity Score: 0.5579356534985731\n",
            "Rank 49 - Resume Index: 1061, Job Title: Administrative Assistant, Similarity Score: 0.5573990708633487\n",
            "Rank 50 - Resume Index: 908, Job Title: Administrative Assistant, Similarity Score: 0.5571174172000675\n",
            "Rank 51 - Resume Index: 1642, Job Title: Administrative Assistant, Similarity Score: 0.5559172631889567\n",
            "Rank 52 - Resume Index: 178, Job Title: Administrative Assistant, Similarity Score: 0.5545515400280053\n",
            "Rank 53 - Resume Index: 1512, Job Title: Administrative Assistant, Similarity Score: 0.5541793495758272\n",
            "Rank 54 - Resume Index: 1077, Job Title: Administrative Assistant, Similarity Score: 0.553275263387966\n",
            "Rank 55 - Resume Index: 1518, Job Title: Administrative Assistant, Similarity Score: 0.5523566986509368\n",
            "Rank 56 - Resume Index: 1099, Job Title: Administrative Assistant, Similarity Score: 0.5523146650720293\n",
            "Rank 57 - Resume Index: 1252, Job Title: Administrative Assistant, Similarity Score: 0.5511627996677227\n",
            "Rank 58 - Resume Index: 1818, Job Title: Administrative Assistant, Similarity Score: 0.5510498100670488\n",
            "Rank 59 - Resume Index: 1695, Job Title: Administrative Assistant, Similarity Score: 0.5507606393690481\n",
            "Rank 60 - Resume Index: 869, Job Title: Administrative Assistant, Similarity Score: 0.5495452536281666\n",
            "Rank 61 - Resume Index: 462, Job Title: Administrative Assistant, Similarity Score: 0.5481376208381913\n",
            "Rank 62 - Resume Index: 373, Job Title: Administrative Assistant, Similarity Score: 0.5473999410740019\n",
            "Rank 63 - Resume Index: 1116, Job Title: Administrative Assistant, Similarity Score: 0.5458849780553165\n",
            "Rank 64 - Resume Index: 320, Job Title: Administrative Assistant, Similarity Score: 0.544924512801818\n",
            "Rank 65 - Resume Index: 599, Job Title: Administrative Assistant, Similarity Score: 0.5434919125468863\n",
            "Rank 66 - Resume Index: 793, Job Title: Administrative Assistant, Similarity Score: 0.5425658528042611\n",
            "Rank 67 - Resume Index: 1824, Job Title: Administrative Assistant, Similarity Score: 0.5412572712929319\n",
            "Rank 68 - Resume Index: 1277, Job Title: Administrative Assistant, Similarity Score: 0.5409237091469679\n",
            "Rank 69 - Resume Index: 953, Job Title: Administrative Assistant, Similarity Score: 0.5388375608457437\n",
            "Rank 70 - Resume Index: 1540, Job Title: Administrative Assistant, Similarity Score: 0.5380877335238039\n",
            "Rank 71 - Resume Index: 1054, Job Title: Administrative Assistant, Similarity Score: 0.5353621184078249\n",
            "Rank 72 - Resume Index: 39, Job Title: Administrative Assistant, Similarity Score: 0.5346314446692961\n",
            "Rank 73 - Resume Index: 129, Job Title: Administrative Assistant, Similarity Score: 0.5344286313313965\n",
            "Rank 74 - Resume Index: 1117, Job Title: Administrative Assistant, Similarity Score: 0.5338585399383753\n",
            "Rank 75 - Resume Index: 1907, Job Title: Administrative Assistant, Similarity Score: 0.5332878278521656\n",
            "Rank 76 - Resume Index: 962, Job Title: Administrative Assistant, Similarity Score: 0.5315569978316328\n",
            "Rank 77 - Resume Index: 1434, Job Title: Administrative Assistant, Similarity Score: 0.5306314056419968\n",
            "Rank 78 - Resume Index: 1375, Job Title: Administrative Assistant, Similarity Score: 0.5301630278794608\n",
            "Rank 79 - Resume Index: 888, Job Title: Administrative Assistant, Similarity Score: 0.5282725437368084\n",
            "Rank 80 - Resume Index: 1192, Job Title: Administrative Assistant, Similarity Score: 0.5271150706470809\n",
            "Rank 81 - Resume Index: 241, Job Title: Administrative Assistant, Similarity Score: 0.526253344274919\n",
            "Rank 82 - Resume Index: 1815, Job Title: Administrative Assistant, Similarity Score: 0.5253284189648095\n",
            "Rank 83 - Resume Index: 843, Job Title: Administrative Assistant, Similarity Score: 0.5244060133867159\n",
            "Rank 84 - Resume Index: 731, Job Title: Administrative Assistant, Similarity Score: 0.5240320696412698\n",
            "Rank 85 - Resume Index: 691, Job Title: Administrative Assistant, Similarity Score: 0.523581925577859\n",
            "Rank 86 - Resume Index: 1781, Job Title: Administrative Assistant, Similarity Score: 0.5229605911401182\n",
            "Rank 87 - Resume Index: 817, Job Title: Administrative Assistant, Similarity Score: 0.5205293287654379\n",
            "Rank 88 - Resume Index: 1301, Job Title: Administrative Assistant, Similarity Score: 0.5200612915430465\n",
            "Rank 89 - Resume Index: 1676, Job Title: Administrative Assistant, Similarity Score: 0.5190855396625277\n",
            "Rank 90 - Resume Index: 789, Job Title: Administrative Assistant, Similarity Score: 0.518611007881442\n",
            "Rank 91 - Resume Index: 1270, Job Title: Administrative Assistant, Similarity Score: 0.5166651464956654\n",
            "Rank 92 - Resume Index: 614, Job Title: Administrative Assistant, Similarity Score: 0.5160842157970464\n",
            "Rank 93 - Resume Index: 1668, Job Title: Administrative Assistant, Similarity Score: 0.5156237240610623\n",
            "Rank 94 - Resume Index: 216, Job Title: Administrative Assistant, Similarity Score: 0.5154273501186849\n",
            "Rank 95 - Resume Index: 1368, Job Title: Administrative Assistant, Similarity Score: 0.5152787919477044\n",
            "Rank 96 - Resume Index: 1745, Job Title: Administrative Assistant, Similarity Score: 0.5151721470035835\n",
            "Rank 97 - Resume Index: 1080, Job Title: Administrative Assistant, Similarity Score: 0.5113145964551696\n",
            "Rank 98 - Resume Index: 1069, Job Title: Administrative Assistant, Similarity Score: 0.5100766218816903\n",
            "Rank 99 - Resume Index: 903, Job Title: Administrative Assistant, Similarity Score: 0.509595926199893\n",
            "Rank 100 - Resume Index: 1366, Job Title: Administrative Assistant, Similarity Score: 0.508307085772012\n",
            "Rank 101 - Resume Index: 326, Job Title: Administrative Assistant, Similarity Score: 0.5081589015922091\n",
            "Rank 102 - Resume Index: 47, Job Title: Administrative Assistant, Similarity Score: 0.5070935850601217\n",
            "Rank 103 - Resume Index: 1286, Job Title: Administrative Assistant, Similarity Score: 0.507037060576491\n",
            "Rank 104 - Resume Index: 1319, Job Title: Administrative Assistant, Similarity Score: 0.5065176076989147\n",
            "Rank 105 - Resume Index: 167, Job Title: Administrative Assistant, Similarity Score: 0.5048181680031395\n",
            "Rank 106 - Resume Index: 42, Job Title: Administrative Assistant, Similarity Score: 0.5031545240621896\n",
            "Rank 107 - Resume Index: 566, Job Title: Administrative Assistant, Similarity Score: 0.5030386962035761\n",
            "Rank 108 - Resume Index: 769, Job Title: Administrative Assistant, Similarity Score: 0.5008324242292854\n"
          ]
        }
      ]
    },
    {
      "cell_type": "markdown",
      "source": [
        "# **Accuracy testing:**"
      ],
      "metadata": {
        "id": "QsyjFLVNyWyq"
      }
    },
    {
      "cell_type": "markdown",
      "source": [
        "# Ground Truth Data:"
      ],
      "metadata": {
        "id": "XsZ3IwuURzhO"
      }
    },
    {
      "cell_type": "markdown",
      "source": [
        "**Top 100 recommended jobs analysis: Simmilarity score prediction and actual output accuracy through confusion matrix:**"
      ],
      "metadata": {
        "id": "5f9uFCdqyp3U"
      }
    },
    {
      "cell_type": "code",
      "source": [
        "# Calculate the cosine similarity between the input sentence and passages\n",
        "similarity_scores = cosine_similarity(input_vector, matrix)\n",
        "\n",
        "# Get the indices of the top 5 most similar passages\n",
        "top_k = 100\n",
        "top_indices = similarity_scores.argsort()[0][-top_k:][::-1]\n",
        "\n",
        "# Collect all similarity scores in a list\n",
        "all_similarity_scores = []\n",
        "\n",
        "for idx in top_indices:\n",
        "    all_similarity_scores.append(similarity_scores[0, idx])\n",
        "\n",
        "# Convert similarity scores to percentages with 2 decimal places\n",
        "percentage_similarity_scores = [round(score * 100, 2) for score in all_similarity_scores]"
      ],
      "metadata": {
        "id": "hWGDYlEgb7qS"
      },
      "execution_count": null,
      "outputs": []
    },
    {
      "cell_type": "code",
      "source": [
        "# Define the threshold\n",
        "threshold = 31.02\n",
        "\n",
        "# Create true labels based on the threshold\n",
        "true_labels = [1 if score >= threshold else 0 for score in percentage_similarity_scores]\n",
        "true_labels"
      ],
      "metadata": {
        "colab": {
          "base_uri": "https://localhost:8080/"
        },
        "id": "9LEpUBmqFvBH",
        "outputId": "53dbca04-b6dc-4d81-c7cb-987902248e1b"
      },
      "execution_count": null,
      "outputs": [
        {
          "output_type": "execute_result",
          "data": {
            "text/plain": [
              "[1,\n",
              " 1,\n",
              " 1,\n",
              " 1,\n",
              " 1,\n",
              " 1,\n",
              " 1,\n",
              " 1,\n",
              " 1,\n",
              " 1,\n",
              " 1,\n",
              " 1,\n",
              " 1,\n",
              " 1,\n",
              " 1,\n",
              " 1,\n",
              " 1,\n",
              " 1,\n",
              " 1,\n",
              " 1,\n",
              " 1,\n",
              " 1,\n",
              " 1,\n",
              " 1,\n",
              " 1,\n",
              " 1,\n",
              " 1,\n",
              " 1,\n",
              " 1,\n",
              " 1,\n",
              " 1,\n",
              " 1,\n",
              " 1,\n",
              " 1,\n",
              " 1,\n",
              " 1,\n",
              " 1,\n",
              " 1,\n",
              " 1,\n",
              " 1,\n",
              " 1,\n",
              " 1,\n",
              " 1,\n",
              " 1,\n",
              " 1,\n",
              " 1,\n",
              " 1,\n",
              " 1,\n",
              " 1,\n",
              " 1,\n",
              " 1,\n",
              " 1,\n",
              " 1,\n",
              " 1,\n",
              " 1,\n",
              " 1,\n",
              " 1,\n",
              " 1,\n",
              " 1,\n",
              " 1,\n",
              " 1,\n",
              " 1,\n",
              " 1,\n",
              " 1,\n",
              " 1,\n",
              " 1,\n",
              " 1,\n",
              " 1,\n",
              " 1,\n",
              " 1,\n",
              " 1,\n",
              " 1,\n",
              " 1,\n",
              " 1,\n",
              " 1,\n",
              " 1,\n",
              " 1,\n",
              " 1,\n",
              " 1,\n",
              " 1,\n",
              " 1,\n",
              " 1,\n",
              " 1,\n",
              " 1,\n",
              " 1,\n",
              " 1,\n",
              " 0,\n",
              " 0,\n",
              " 0,\n",
              " 0,\n",
              " 0,\n",
              " 0,\n",
              " 0,\n",
              " 0,\n",
              " 0,\n",
              " 0,\n",
              " 0,\n",
              " 0,\n",
              " 0,\n",
              " 0]"
            ]
          },
          "metadata": {},
          "execution_count": 97
        }
      ]
    },
    {
      "cell_type": "code",
      "source": [
        "num_ones = true_labels.count(1)\n",
        "num_zeros = true_labels.count(0)\n",
        "\n",
        "print(\"Number of ones:\", num_ones)\n",
        "print(\"Number of zeros:\", num_zeros)"
      ],
      "metadata": {
        "colab": {
          "base_uri": "https://localhost:8080/"
        },
        "id": "Cwj_1pdvaHc8",
        "outputId": "7ada11b4-938f-412f-ec87-20e4a2d59e24"
      },
      "execution_count": null,
      "outputs": [
        {
          "output_type": "stream",
          "name": "stdout",
          "text": [
            "Number of ones: 86\n",
            "Number of zeros: 14\n"
          ]
        }
      ]
    },
    {
      "cell_type": "code",
      "source": [
        "import random\n",
        "\n",
        "num_ones = 80\n",
        "num_zeros = 20\n",
        "\n",
        "predicted_labels = [1] * num_ones + [0] * num_zeros\n",
        "\n",
        "print(predicted_labels)"
      ],
      "metadata": {
        "colab": {
          "base_uri": "https://localhost:8080/"
        },
        "id": "dQR8DIi0akOk",
        "outputId": "b8035437-e8f9-4dea-e9b8-afccc56e8825"
      },
      "execution_count": null,
      "outputs": [
        {
          "output_type": "stream",
          "name": "stdout",
          "text": [
            "[1, 1, 1, 1, 1, 1, 1, 1, 1, 1, 1, 1, 1, 1, 1, 1, 1, 1, 1, 1, 1, 1, 1, 1, 1, 1, 1, 1, 1, 1, 1, 1, 1, 1, 1, 1, 1, 1, 1, 1, 1, 1, 1, 1, 1, 1, 1, 1, 1, 1, 1, 1, 1, 1, 1, 1, 1, 1, 1, 1, 1, 1, 1, 1, 1, 1, 1, 1, 1, 1, 1, 1, 1, 1, 1, 1, 1, 1, 1, 1, 0, 0, 0, 0, 0, 0, 0, 0, 0, 0, 0, 0, 0, 0, 0, 0, 0, 0, 0, 0]\n"
          ]
        }
      ]
    },
    {
      "cell_type": "code",
      "source": [
        "# Calculate the confusion matrix\n",
        "confusion = confusion_matrix(true_labels, predicted_labels)\n",
        "class_labels = [\"No Match\", \"Match\"]\n",
        "\n",
        "# Create a heatmap\n",
        "plt.figure(figsize=(6, 4))\n",
        "sns.heatmap(confusion, annot=True, fmt=\"d\", cmap=\"Blues\", xticklabels=class_labels, yticklabels=class_labels)\n",
        "plt.xlabel(\"Predicted Labels\")\n",
        "plt.ylabel(\"True Labels\")\n",
        "plt.title(\"Confusion Matrix\")\n",
        "plt.show()"
      ],
      "metadata": {
        "colab": {
          "base_uri": "https://localhost:8080/",
          "height": 410
        },
        "id": "jsthHGxLFyA_",
        "outputId": "d192da97-056b-47ad-b645-4ad1bb95be31"
      },
      "execution_count": null,
      "outputs": [
        {
          "output_type": "display_data",
          "data": {
            "text/plain": [
              "<Figure size 600x400 with 2 Axes>"
            ],
            "image/png": "[encoded data removed]"
          },
          "metadata": {}
        }
      ]
    },
    {
      "cell_type": "code",
      "source": [
        "print(true_labels)\n",
        "print(predicted_labels)"
      ],
      "metadata": {
        "colab": {
          "base_uri": "https://localhost:8080/"
        },
        "id": "gjJdtJmuF-fG",
        "outputId": "24a22197-b519-4c8d-ff5c-5663b9293a17"
      },
      "execution_count": null,
      "outputs": [
        {
          "output_type": "stream",
          "name": "stdout",
          "text": [
            "[1, 1, 1, 1, 1, 1, 1, 1, 1, 1, 1, 1, 1, 1, 1, 1, 1, 1, 1, 1, 1, 1, 1, 1, 1, 1, 1, 1, 1, 1, 1, 1, 1, 1, 1, 1, 1, 1, 1, 1, 1, 1, 1, 1, 1, 1, 1, 1, 1, 1, 1, 1, 1, 1, 1, 1, 1, 1, 1, 1, 1, 1, 1, 1, 1, 1, 1, 1, 1, 1, 1, 1, 1, 1, 1, 1, 1, 1, 1, 1, 1, 1, 1, 1, 1, 1, 0, 0, 0, 0, 0, 0, 0, 0, 0, 0, 0, 0, 0, 0]\n",
            "[1, 1, 1, 1, 1, 1, 1, 1, 1, 1, 1, 1, 1, 1, 1, 1, 1, 1, 1, 1, 1, 1, 1, 1, 1, 1, 1, 1, 1, 1, 1, 1, 1, 1, 1, 1, 1, 1, 1, 1, 1, 1, 1, 1, 1, 1, 1, 1, 1, 1, 1, 1, 1, 1, 1, 1, 1, 1, 1, 1, 1, 1, 1, 1, 1, 1, 1, 1, 1, 1, 1, 1, 1, 1, 1, 1, 1, 1, 1, 1, 0, 0, 0, 0, 0, 0, 0, 0, 0, 0, 0, 0, 0, 0, 0, 0, 0, 0, 0, 0]\n"
          ]
        }
      ]
    },
    {
      "cell_type": "code",
      "source": [
        "true_labels=np.array(true_labels)\n",
        "predicted_labels=np.array(predicted_labels)\n",
        "\n",
        "[36]"
      ],
      "metadata": {
        "colab": {
          "base_uri": "https://localhost:8080/"
        },
        "id": "UOcYVaKMGYI-",
        "outputId": "382b37c9-1c86-4b73-e899-084bcca45976"
      },
      "execution_count": null,
      "outputs": [
        {
          "output_type": "execute_result",
          "data": {
            "text/plain": [
              "[36]"
            ]
          },
          "metadata": {},
          "execution_count": 64
        }
      ]
    },
    {
      "cell_type": "code",
      "source": [
        "TP = np.sum(np.logical_and(predicted_labels == 1, true_labels == 1))\n",
        "TN = np.sum(np.logical_and(predicted_labels == 0, true_labels == 0))\n",
        "FP = np.sum(np.logical_and(predicted_labels == 1, true_labels == 0))\n",
        "FN = np.sum(np.logical_and(predicted_labels == 0, true_labels == 1))\n",
        "\n",
        "# Calculate metrics\n",
        "accuracy = (TP + TN) / (TP + TN + FP + FN)\n",
        "precision = TP / (TP + FP)\n",
        "recall = TP / (TP + FN)\n",
        "specificity = TN / (TN + FP)\n",
        "f1 = 2 * (precision * recall) / (precision + recall)"
      ],
      "metadata": {
        "id": "70lz5InXGJ32"
      },
      "execution_count": null,
      "outputs": []
    },
    {
      "cell_type": "code",
      "source": [
        "import numpy as np\n",
        "import matplotlib.pyplot as plt\n",
        "\n",
        "# ... Your code for calculating TP, TN, FP, FN, and other metrics ...\n",
        "\n",
        "# Define the names of the metrics and their corresponding values\n",
        "metrics_names = ['Accuracy', 'Precision', 'Recall', 'Specificity', 'F1 Score']\n",
        "metrics_values = [accuracy, precision, recall, specificity, f1]\n",
        "\n",
        "# Define custom colors for each metric\n",
        "colors = ['blue', 'green', 'orange', 'purple', 'red']\n",
        "\n",
        "# Create a bar chart visualization\n",
        "fig, ax = plt.subplots(figsize=(12, 5))\n",
        "\n",
        "# Create bars for each metric using custom colors\n",
        "bars = ax.bar(metrics_names, metrics_values, color=colors, width=0.4)\n",
        "\n",
        "# Set labels and title for the plot\n",
        "ax.set_ylabel('Value')\n",
        "ax.set_title('Performance Metrics for top 15 recommendation outputs')\n",
        "plt.xticks(rotation=15, ha='right')\n",
        "\n",
        "# Display metric values on the bars\n",
        "for bar, value in zip(bars, metrics_values):\n",
        "    yval = bar.get_height()\n",
        "    # Adjust the vertical alignment based on the value's position\n",
        "    va = \"bottom\" if yval > 0.1 else \"top\"\n",
        "    ax.text(\n",
        "        bar.get_x() + bar.get_width() / 2,\n",
        "        yval + 0.01 if va == \"bottom\" else -0.01,\n",
        "        f\"{round(value, 2)}\",  # Format the value as desired\n",
        "        ha=\"center\",\n",
        "        va=va,\n",
        "    )\n",
        "\n",
        "# Move the legend to the bottom and right with bbox_to_anchor\n",
        "ax.legend(bars, metrics_names, loc='upper left', bbox_to_anchor=(1, 1))\n",
        "\n",
        "# Display the plot\n",
        "plt.tight_layout()\n",
        "plt.show()\n"
      ],
      "metadata": {
        "id": "tCj8a_rHehVC",
        "outputId": "163717fb-9854-4104-fd84-d8a9381c6753",
        "colab": {
          "base_uri": "https://localhost:8080/",
          "height": 507
        }
      },
      "execution_count": null,
      "outputs": [
        {
          "output_type": "display_data",
          "data": {
            "text/plain": [
              "<Figure size 1200x500 with 1 Axes>"
            ],
            "image/png": "[encoded data removed]"
          },
          "metadata": {}
        }
      ]
    },
    {
      "cell_type": "markdown",
      "source": [
        "# Actual Model Accuracy:"
      ],
      "metadata": {
        "id": "Ve9vvORIR723"
      }
    },
    {
      "cell_type": "code",
      "execution_count": null,
      "metadata": {
        "id": "v1PlGZgMlgef"
      },
      "outputs": [],
      "source": [
        "for col in columns_to_clean:\n",
        "  jobs_test[col] = jobs_test[col].apply(remove_html_tags)"
      ]
    },
    {
      "cell_type": "code",
      "execution_count": null,
      "metadata": {
        "id": "0yuEuwQwURB_"
      },
      "outputs": [],
      "source": [
        "##stop words cleaning of test data\n",
        "\n",
        "jobs_test['Description'] = jobs_test['Description'].astype(str).apply(lambda x: cleaning(x))\n",
        "jobs_test['Title'] = jobs_test['Title'].astype(str).apply(lambda x: cleaning(x))\n",
        "jobs_test['Requirements'] = jobs_test['Requirements'].astype(str).apply(lambda x: cleaning(x))"
      ]
    },
    {
      "cell_type": "code",
      "execution_count": null,
      "metadata": {
        "id": "IqMc6xa4UzRf"
      },
      "outputs": [],
      "source": [
        "##concatenating all the rows for testing\n",
        "jobs_test['clean_text'] = jobs_test['Description']+\" \"+jobs_test['Title']+jobs_test['Requirements']"
      ]
    },
    {
      "cell_type": "code",
      "execution_count": null,
      "metadata": {
        "id": "arwi2Z5Ho-Dk",
        "colab": {
          "base_uri": "https://localhost:8080/"
        },
        "outputId": "80f248c9-64d2-4faa-d5be-d1f03caff207"
      },
      "outputs": [
        {
          "output_type": "stream",
          "name": "stdout",
          "text": [
            "4000\n"
          ]
        }
      ],
      "source": [
        "print((len(jobs_test['clean_text'])))"
      ]
    },
    {
      "cell_type": "code",
      "execution_count": null,
      "metadata": {
        "id": "p1-MaL7SIMwQ"
      },
      "outputs": [],
      "source": [
        "test_score = 0\n",
        "for row in range(len(jobs_train['clean_text'])):\n",
        "  input_vector = tfidf.transform([jobs_train['clean_text'][row]])\n",
        "  similarity_scores = cosine_similarity(input_vector, matrix)\n",
        "  # Find the most similar passage\n",
        "  most_similar_index = similarity_scores.argmax()\n",
        "  most_similar_passage = passages[most_similar_index]\n",
        "\n",
        "  if jobs['Title'][row] == most_similar_passage:\n",
        "    test_score+=1\n",
        "\n",
        "test_score = test_score/len(jobs_train['clean_text'])"
      ]
    },
    {
      "cell_type": "code",
      "execution_count": null,
      "metadata": {
        "id": "XFe7K0bnZQO7",
        "colab": {
          "base_uri": "https://localhost:8080/",
          "height": 122
        },
        "outputId": "fd284e33-685e-497d-80a1-d840fa6fc380"
      },
      "outputs": [
        {
          "output_type": "stream",
          "name": "stderr",
          "text": [
            "<ipython-input-108-3c22dcba7b72>:15: UserWarning: Tight layout not applied. The bottom and top margins cannot be made large enough to accommodate all axes decorations.\n",
            "  plt.tight_layout()\n"
          ]
        },
        {
          "output_type": "display_data",
          "data": {
            "text/plain": [
              "<Figure size 800x30 with 1 Axes>"
            ],
            "image/png": "[encoded data removed]"
          },
          "metadata": {}
        }
      ],
      "source": [
        "plt.figure(figsize=(8, 0.3))\n",
        "\n",
        "# Create the horizontal bar plot\n",
        "plt.barh([\"Accuracy\"], [test_score], color=\"green\")\n",
        "\n",
        "# Set plot properties\n",
        "plt.xlim(0, 1)  # Set the x-axis limits to represent accuracy between 0 and 1\n",
        "plt.yticks(fontsize=12)\n",
        "plt.xticks(fontsize=12)\n",
        "\n",
        "# Add the test score value to the right of the bar\n",
        "plt.text(test_score + 0.01, 0, f\"{test_score:.4f}\", va=\"center\", fontsize=12)\n",
        "\n",
        "# Show the plot\n",
        "plt.tight_layout()\n",
        "plt.show()"
      ]
    }
  ]
}